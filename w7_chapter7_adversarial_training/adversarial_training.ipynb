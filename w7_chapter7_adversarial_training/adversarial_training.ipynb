{
 "cells": [
  {
   "cell_type": "code",
   "execution_count": 3,
   "metadata": {},
   "outputs": [
    {
     "ename": "TypeError",
     "evalue": "type torch.cuda.FloatTensor not available. Torch not compiled with CUDA enabled.",
     "output_type": "error",
     "traceback": [
      "\u001b[0;31m---------------------------------------------------------------------------\u001b[0m",
      "\u001b[0;31mTypeError\u001b[0m                                 Traceback (most recent call last)",
      "Cell \u001b[0;32mIn [3], line 9\u001b[0m\n\u001b[1;32m      6\u001b[0m \u001b[39mfrom\u001b[39;00m \u001b[39mtorch\u001b[39;00m \u001b[39mimport\u001b[39;00m nn\n\u001b[1;32m      7\u001b[0m \u001b[39mfrom\u001b[39;00m \u001b[39mtorchvision\u001b[39;00m \u001b[39mimport\u001b[39;00m models\n\u001b[0;32m----> 9\u001b[0m \u001b[39mimport\u001b[39;00m \u001b[39mw7d3_utils\u001b[39;00m\n\u001b[1;32m     10\u001b[0m \u001b[39mimport\u001b[39;00m \u001b[39mw7d3_tests\u001b[39;00m\n",
      "File \u001b[0;32m~/projects/arena-v1-ldn-ct/w7_chapter7_adversarial_training/w7d3_utils.py:15\u001b[0m\n\u001b[1;32m      9\u001b[0m IMAGENET_NORMALIZE \u001b[39m=\u001b[39m transforms\u001b[39m.\u001b[39mNormalize(mean\u001b[39m=\u001b[39m[\u001b[39m0.485\u001b[39m, \u001b[39m0.456\u001b[39m, \u001b[39m0.406\u001b[39m], \n\u001b[1;32m     10\u001b[0m                                std\u001b[39m=\u001b[39m[\u001b[39m0.229\u001b[39m, \u001b[39m0.224\u001b[39m, \u001b[39m0.225\u001b[39m])\n\u001b[1;32m     11\u001b[0m IMAGENET_DENORMALIZE \u001b[39m=\u001b[39m transforms\u001b[39m.\u001b[39mCompose([\n\u001b[1;32m     12\u001b[0m     transforms\u001b[39m.\u001b[39mNormalize(mean\u001b[39m=\u001b[39m[\u001b[39m0\u001b[39m, \u001b[39m0\u001b[39m, \u001b[39m0\u001b[39m], std\u001b[39m=\u001b[39m[\u001b[39m1\u001b[39m\u001b[39m/\u001b[39m\u001b[39m0.229\u001b[39m, \u001b[39m1\u001b[39m\u001b[39m/\u001b[39m\u001b[39m0.224\u001b[39m, \u001b[39m1\u001b[39m\u001b[39m/\u001b[39m\u001b[39m0.225\u001b[39m]),\n\u001b[1;32m     13\u001b[0m     transforms\u001b[39m.\u001b[39mNormalize(mean\u001b[39m=\u001b[39m[\u001b[39m-\u001b[39m\u001b[39m0.485\u001b[39m, \u001b[39m-\u001b[39m\u001b[39m0.456\u001b[39m, \u001b[39m-\u001b[39m\u001b[39m0.406\u001b[39m], std\u001b[39m=\u001b[39m[\u001b[39m1\u001b[39m, \u001b[39m1\u001b[39m, \u001b[39m1\u001b[39m])\n\u001b[1;32m     14\u001b[0m ])\n\u001b[0;32m---> 15\u001b[0m torch\u001b[39m.\u001b[39;49mset_default_tensor_type(torch\u001b[39m.\u001b[39;49mcuda\u001b[39m.\u001b[39;49mFloatTensor)\n\u001b[1;32m     17\u001b[0m \u001b[39mwith\u001b[39;00m \u001b[39mopen\u001b[39m(\u001b[39m'\u001b[39m\u001b[39mimagenet_labels.json\u001b[39m\u001b[39m'\u001b[39m, \u001b[39m'\u001b[39m\u001b[39mr\u001b[39m\u001b[39m'\u001b[39m) \u001b[39mas\u001b[39;00m f:\n\u001b[1;32m     18\u001b[0m     IMAGENET_LABELS \u001b[39m=\u001b[39m json\u001b[39m.\u001b[39mload(f)\n",
      "File \u001b[0;32m~/miniconda3/envs/arena/lib/python3.9/site-packages/torch/__init__.py:322\u001b[0m, in \u001b[0;36mset_default_tensor_type\u001b[0;34m(t)\u001b[0m\n\u001b[1;32m    320\u001b[0m \u001b[39mif\u001b[39;00m \u001b[39misinstance\u001b[39m(t, _string_classes):\n\u001b[1;32m    321\u001b[0m     t \u001b[39m=\u001b[39m _import_dotted_name(t)\n\u001b[0;32m--> 322\u001b[0m _C\u001b[39m.\u001b[39;49m_set_default_tensor_type(t)\n",
      "\u001b[0;31mTypeError\u001b[0m: type torch.cuda.FloatTensor not available. Torch not compiled with CUDA enabled."
     ]
    }
   ],
   "source": [
    "import torch\n",
    "import torch.nn.functional as F\n",
    "import matplotlib\n",
    "import matplotlib.pyplot as plt\n",
    "import numpy as np\n",
    "from torch import nn\n",
    "from torchvision import models\n",
    "\n",
    "import w7d3_utils\n",
    "import w7d3_tests"
   ]
  },
  {
   "cell_type": "code",
   "execution_count": 1,
   "metadata": {},
   "outputs": [
    {
     "ename": "NameError",
     "evalue": "name 'w7d3_tests' is not defined",
     "output_type": "error",
     "traceback": [
      "\u001b[0;31m---------------------------------------------------------------------------\u001b[0m",
      "\u001b[0;31mNameError\u001b[0m                                 Traceback (most recent call last)",
      "Cell \u001b[0;32mIn [1], line 23\u001b[0m\n\u001b[1;32m     20\u001b[0m     x_batch \u001b[39m=\u001b[39m torch\u001b[39m.\u001b[39mclamp(x_batch, \u001b[39m0\u001b[39m, \u001b[39m1\u001b[39m)\n\u001b[1;32m     21\u001b[0m     \u001b[39mreturn\u001b[39;00m x_batch\n\u001b[0;32m---> 23\u001b[0m w7d3_tests\u001b[39m.\u001b[39mtest_untargeted_attack(untargeted_FGSM, eps\u001b[39m=\u001b[39m\u001b[39m8\u001b[39m\u001b[39m/\u001b[39m\u001b[39m255.\u001b[39m)\n",
      "\u001b[0;31mNameError\u001b[0m: name 'w7d3_tests' is not defined"
     ]
    }
   ],
   "source": [
    "def untargeted_FGSM(x_batch, true_labels, network, normalize, eps=8/255., **kwargs):\n",
    "    '''Generates a batch of untargeted FGSM adversarial examples\n",
    "\n",
    "    x_batch (torch.Tensor): the batch of unnormalized input examples.\n",
    "    true_labels (torch.Tensor): the batch of true labels of the example.\n",
    "    network (nn.Module): the network to attack.\n",
    "    normalize (function): a function which normalizes a batch of images \n",
    "        according to standard imagenet normalization.\n",
    "    eps (float): the bound on the perturbations.\n",
    "    '''\n",
    "    loss_fn = nn.CrossEntropyLoss(reduce=\"mean\")\n",
    "    x_batch.requires_grad = True\n",
    "    x_batch = normalize(x_batch)\n",
    "    out = network(x_batch)\n",
    "    loss = loss_fn(out, true_labels)\n",
    "    loss.backward()\n",
    "    x_batch_grad = x_batch.grad.data\n",
    "    x_batch = x_batch.detach()\n",
    "    x_batch = x_batch + eps * torch.sign(x_batch_grad)\n",
    "    x_batch = torch.clamp(x_batch, 0, 1)\n",
    "    return x_batch\n",
    "\n",
    "w7d3_tests.test_untargeted_attack(untargeted_FGSM, eps=8/255.)"
   ]
  },
  {
   "cell_type": "code",
   "execution_count": null,
   "metadata": {},
   "outputs": [],
   "source": []
  }
 ],
 "metadata": {
  "kernelspec": {
   "display_name": "Python 3.9.13 ('arena')",
   "language": "python",
   "name": "python3"
  },
  "language_info": {
   "codemirror_mode": {
    "name": "ipython",
    "version": 3
   },
   "file_extension": ".py",
   "mimetype": "text/x-python",
   "name": "python",
   "nbconvert_exporter": "python",
   "pygments_lexer": "ipython3",
   "version": "3.9.13"
  },
  "orig_nbformat": 4,
  "vscode": {
   "interpreter": {
    "hash": "e28c680d33f95a364b6d7e112cefa96ea26c04ddac857c82a143b1aa5b3dfb2e"
   }
  }
 },
 "nbformat": 4,
 "nbformat_minor": 2
}
