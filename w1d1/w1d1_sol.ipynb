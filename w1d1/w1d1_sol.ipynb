{
 "cells": [
  {
   "cell_type": "code",
   "execution_count": 2,
   "metadata": {},
   "outputs": [],
   "source": [
    "import torch as t\n",
    "from torch import nn\n",
    "import plotly.express as px\n",
    "from IPython.display import display\n",
    "import pandas as pd\n",
    "import numpy as np\n",
    "import utils"
   ]
  },
  {
   "cell_type": "code",
   "execution_count": 3,
   "metadata": {},
   "outputs": [],
   "source": [
    "import transformers\n",
    "\n",
    "tokenizer = transformers.AutoTokenizer.from_pretrained(\"gpt2\")"
   ]
  },
  {
   "cell_type": "code",
   "execution_count": 4,
   "metadata": {},
   "outputs": [],
   "source": [
    "test_str = \"\"\"A day will come, one day in the unending succession of days, \n",
    "    when beings, beings who are now latent in our thoughts and hidden \n",
    "    in our loins, shall stand upon this earth as one stands upon a \n",
    "    footstool, and shall laugh and reach out their hands amidst the \n",
    "    stars.\"\"\""
   ]
  },
  {
   "cell_type": "code",
   "execution_count": 5,
   "metadata": {},
   "outputs": [],
   "source": [
    "tkns = tokenizer.encode(test_str)"
   ]
  },
  {
   "cell_type": "code",
   "execution_count": 6,
   "metadata": {},
   "outputs": [
    {
     "data": {
      "text/plain": [
       "'A day will come, one day in the unending succession of days, \\n    when beings, beings who are now latent in our thoughts and hidden \\n    in our loins, shall stand upon this earth as one stands upon a \\n    footstool, and shall laugh and reach out their hands amidst the \\n    stars.'"
      ]
     },
     "execution_count": 6,
     "metadata": {},
     "output_type": "execute_result"
    }
   ],
   "source": [
    "tokenizer.decode(tkns)"
   ]
  },
  {
   "cell_type": "code",
   "execution_count": 7,
   "metadata": {},
   "outputs": [
    {
     "data": {
      "text/plain": [
       "{'input_ids': [32, 1110, 481, 1282, 11, 530, 1110, 287, 262, 555, 1571, 22435, 286, 1528, 11, 220, 198, 220, 220, 220, 618, 9791, 11, 9791, 508, 389, 783, 41270, 287, 674, 6066, 290, 7104, 220, 198, 220, 220, 220, 287, 674, 2376, 1040, 11, 2236, 1302, 2402, 428, 4534, 355, 530, 6296, 2402, 257, 220, 198, 220, 220, 220, 2366, 301, 970, 11, 290, 2236, 6487, 290, 3151, 503, 511, 2832, 31095, 262, 220, 198, 220, 220, 220, 5788, 13], 'attention_mask': [1, 1, 1, 1, 1, 1, 1, 1, 1, 1, 1, 1, 1, 1, 1, 1, 1, 1, 1, 1, 1, 1, 1, 1, 1, 1, 1, 1, 1, 1, 1, 1, 1, 1, 1, 1, 1, 1, 1, 1, 1, 1, 1, 1, 1, 1, 1, 1, 1, 1, 1, 1, 1, 1, 1, 1, 1, 1, 1, 1, 1, 1, 1, 1, 1, 1, 1, 1, 1, 1, 1, 1, 1, 1, 1, 1, 1, 1, 1]}"
      ]
     },
     "execution_count": 7,
     "metadata": {},
     "output_type": "execute_result"
    }
   ],
   "source": [
    "tokenizer(test_str)"
   ]
  },
  {
   "cell_type": "code",
   "execution_count": 8,
   "metadata": {},
   "outputs": [],
   "source": [
    "class Embedding(nn.Module):\n",
    "\n",
    "    def __init__(self, num_embeddings: int, embedding_dim: int):\n",
    "        super().__init__()\n",
    "        self.num_embed = num_embeddings\n",
    "        self.embed_dim = embedding_dim\n",
    "        self.weight = nn.Parameter(t.ones(num_embeddings, embedding_dim).uniform_(-1, to=1))\n",
    "\n",
    "    def forward(self, x: t.LongTensor) -> t.Tensor:\n",
    "        '''For each integer in the input, return that row of the embedding.\n",
    "        '''\n",
    "        return self.weight[x]\n",
    "\n",
    "    def extra_repr(self) -> str:\n",
    "        return f\"{self.num_embed}, {self.embed_dim}\"\n",
    "\n",
    "assert repr(Embedding(10, 20)) == repr(t.nn.Embedding(10, 20))\n",
    "#utils.test_embedding(Embedding)"
   ]
  },
  {
   "cell_type": "code",
   "execution_count": 9,
   "metadata": {},
   "outputs": [],
   "source": [
    "class PositionalEncoding(nn.Module):\n",
    "\n",
    "    def __init__(self, max_seq_len: int, embedding_dim: int):\n",
    "        super().__init__()\n",
    "        self.max_seq_len = max_seq_len\n",
    "        self.embed_dim = embedding_dim\n",
    "        self.n = 10000\n",
    "        \n",
    "        freqs = np.outer(\n",
    "            np.arange(max_seq_len), \n",
    "            1 / self.n ** (2 * np.arange(embedding_dim//2) / embedding_dim)\n",
    "        )\n",
    "        enc_2d = np.zeros((max_seq_len, embedding_dim))\n",
    "        enc_2d[:, ::2] = np.sin(freqs)\n",
    "        enc_2d[:, 1::2] = np.cos(freqs)\n",
    "        self.pos_enc = t.from_numpy(enc_2d)\n",
    "        self.register_buffer(\"pos_enc\", self.pos_enc)\n",
    "\n",
    "    def forward(self, x: t.Tensor) -> t.Tensor:\n",
    "        '''\n",
    "        x: shape (batch, seq_len, embedding_dim)\n",
    "        '''\n",
    "        return x + self.pos_enc[:x.shape[1],:]\n",
    "\n",
    "    def extra_repr(self) -> str:\n",
    "        return f\"max_freq={self.n}, max_seq_len={self.max_seq_len}, embedding_dim={self.embed_dim}\""
   ]
  },
  {
   "cell_type": "code",
   "execution_count": 10,
   "metadata": {},
   "outputs": [],
   "source": [
    "T = t.randn(2, 3, 4)\n",
    "lnorm = nn.LayerNorm(T.shape[2])\n",
    "out = lnorm(T)"
   ]
  },
  {
   "cell_type": "code",
   "execution_count": 11,
   "metadata": {},
   "outputs": [
    {
     "data": {
      "text/plain": [
       "tensor([[[ 0.9630,  0.5554, -0.8954,  0.9941],\n",
       "         [ 0.0050, -1.0346,  2.0186,  0.2238],\n",
       "         [-1.8682, -0.0536,  2.1194,  1.4801]],\n",
       "\n",
       "        [[-2.7236, -1.3115,  0.3106,  0.0503],\n",
       "         [ 0.0109,  0.1053,  0.8121, -0.0904],\n",
       "         [ 0.8659, -0.3655, -0.6905, -1.3613]]])"
      ]
     },
     "execution_count": 11,
     "metadata": {},
     "output_type": "execute_result"
    }
   ],
   "source": [
    "T"
   ]
  },
  {
   "cell_type": "code",
   "execution_count": 12,
   "metadata": {},
   "outputs": [
    {
     "data": {
      "text/plain": [
       "tensor([[[ 0.7256,  0.1963, -1.6877,  0.7659],\n",
       "         [-0.2714, -1.2178,  1.5615, -0.0723],\n",
       "         [-1.4866, -0.3074,  1.1047,  0.6893]],\n",
       "\n",
       "        [[-1.4910, -0.3246,  1.0153,  0.8003],\n",
       "         [-0.5597, -0.2936,  1.6987, -0.8453],\n",
       "         [ 1.5516,  0.0277, -0.3746, -1.2047]]],\n",
       "       grad_fn=<NativeLayerNormBackward0>)"
      ]
     },
     "execution_count": 12,
     "metadata": {},
     "output_type": "execute_result"
    }
   ],
   "source": [
    "out"
   ]
  },
  {
   "cell_type": "code",
   "execution_count": 13,
   "metadata": {},
   "outputs": [
    {
     "name": "stdout",
     "output_type": "stream",
     "text": [
      "All tests in `test_layernorm_mean_1d` passed.\n",
      "All tests in `test_layernorm_mean_2d` passed.\n",
      "All tests in `test_layernorm_std` passed.\n",
      "All tests in `test_layernorm_exact` passed.\n",
      "All tests in `test_layernorm_backward` passed.\n"
     ]
    }
   ],
   "source": [
    "class LayerNorm(nn.Module):\n",
    "\n",
    "    def __init__(\n",
    "        self, \n",
    "        normalized_shape, \n",
    "        eps: float = 1e-05, \n",
    "        elementwise_affine: bool = True\n",
    "        ):\n",
    "        super().__init__()\n",
    "        self.norm_shape = (normalized_shape, ) if isinstance(normalized_shape, int) else normalized_shape\n",
    "        self.eps = eps\n",
    "        self.elementwise_affine = elementwise_affine\n",
    "\n",
    "        if self.elementwise_affine:\n",
    "            self.weight = nn.Parameter(t.ones(normalized_shape))\n",
    "            self.bias = nn.Parameter(t.zeros(normalized_shape))\n",
    "\n",
    "    def forward(self, x: t.Tensor) -> t.Tensor:\n",
    "        '''Normalize along each embedding'''\n",
    "        x_dims, norm_shape_dims = len(x.shape), len(self.norm_shape)\n",
    "        norm_dims = tuple([d for d in range(x_dims - norm_shape_dims, x_dims)])\n",
    "        \n",
    "        self.mean = t.mean(x, dim=norm_dims, keepdim=True)\n",
    "        self.var = t.var(x, dim=norm_dims, unbiased=False, keepdim=True)\n",
    "\n",
    "        out = (x - self.mean) / t.sqrt(self.var + self.eps)\n",
    "\n",
    "        if self.elementwise_affine:\n",
    "            out = out * self.weight + self.bias\n",
    "\n",
    "        return out\n",
    "\n",
    "    def extra_repr(self) -> str:\n",
    "        return f\"normalized_shape={self.norm_shape}, eps={self.eps}, elementwise_affine={self.elementwise_affine}\"\n",
    "\n",
    "utils.test_layernorm_mean_1d(LayerNorm)\n",
    "utils.test_layernorm_mean_2d(LayerNorm)\n",
    "utils.test_layernorm_std(LayerNorm)\n",
    "utils.test_layernorm_exact(LayerNorm)\n",
    "utils.test_layernorm_backward(LayerNorm)"
   ]
  },
  {
   "cell_type": "code",
   "execution_count": 21,
   "metadata": {},
   "outputs": [
    {
     "name": "stdout",
     "output_type": "stream",
     "text": [
      "All tests in `test_dropout_eval` passed.\n",
      "All tests in `test_dropout_training` passed.\n"
     ]
    }
   ],
   "source": [
    "class Dropout(nn.Module):\n",
    "\n",
    "    def __init__(self, p: float):\n",
    "        super().__init__()\n",
    "        self.p = p\n",
    "\n",
    "    def forward(self, x: t.Tensor) -> t.Tensor:\n",
    "        if self.training:\n",
    "            d_shape = x.shape\n",
    "            dropout_matrix = t.rand(d_shape)\n",
    "            dropout_matrix[dropout_matrix < self.p] = 0\n",
    "            dropout_matrix[dropout_matrix >= self.p] = 1\n",
    "            # should this be on the device?\n",
    "            out = x * dropout_matrix\n",
    "            out = out / (1 - self.p)\n",
    "            return out\n",
    "        else:\n",
    "            return x\n",
    "\n",
    "    def extra_repr(self) -> str:\n",
    "        return f\"p={self.p}\"\n",
    "\n",
    "utils.test_dropout_eval(Dropout)\n",
    "utils.test_dropout_training(Dropout)"
   ]
  },
  {
   "cell_type": "code",
   "execution_count": 27,
   "metadata": {},
   "outputs": [
    {
     "data": {
      "application/vnd.plotly.v1+json": {
       "config": {
        "plotlyServerURL": "https://plot.ly"
       },
       "data": [
        {
         "hovertemplate": "x=%{x}<br>y=%{y}<extra></extra>",
         "legendgroup": "",
         "line": {
          "color": "#F8766D",
          "dash": "solid"
         },
         "marker": {
          "symbol": "circle"
         },
         "mode": "lines",
         "name": "",
         "orientation": "v",
         "showlegend": false,
         "type": "scatter",
         "x": [
          -5,
          -4.898989677429199,
          -4.797979831695557,
          -4.696969509124756,
          -4.595959663391113,
          -4.4949493408203125,
          -4.39393949508667,
          -4.292929172515869,
          -4.191919326782227,
          -4.090909004211426,
          -3.989899158477783,
          -3.8888890743255615,
          -3.78787899017334,
          -3.686868906021118,
          -3.5858588218688965,
          -3.4848484992980957,
          -3.383838415145874,
          -3.2828283309936523,
          -3.1818182468414307,
          -3.080808162689209,
          -2.9797980785369873,
          -2.8787879943847656,
          -2.777777671813965,
          -2.6767678260803223,
          -2.5757575035095215,
          -2.4747474193573,
          -2.373737335205078,
          -2.2727272510528564,
          -2.1717171669006348,
          -2.070707082748413,
          -1.9696968793869019,
          -1.8686867952346802,
          -1.767676830291748,
          -1.6666667461395264,
          -1.5656566619873047,
          -1.464646577835083,
          -1.3636364936828613,
          -1.2626264095306396,
          -1.1616162061691284,
          -1.0606061220169067,
          -0.9595960378646851,
          -0.8585859537124634,
          -0.7575758695602417,
          -0.6565657258033752,
          -0.5555556416511536,
          -0.4545455574989319,
          -0.35353541374206543,
          -0.25252532958984375,
          -0.15151524543762207,
          -0.0505051463842392,
          0.05050495266914368,
          0.15151506662368774,
          0.2525251507759094,
          0.3535352349281311,
          0.45454537868499756,
          0.5555554628372192,
          0.6565657258033752,
          0.7575758099555969,
          0.8585859537124634,
          0.9595960378646851,
          1.0606061220169067,
          1.1616162061691284,
          1.2626264095306396,
          1.3636364936828613,
          1.464646577835083,
          1.5656566619873047,
          1.6666667461395264,
          1.767676830291748,
          1.8686869144439697,
          1.9696969985961914,
          2.070707321166992,
          2.1717171669006348,
          2.2727272510528564,
          2.373737335205078,
          2.4747474193573,
          2.5757575035095215,
          2.676767587661743,
          2.777777671813965,
          2.8787879943847656,
          2.979797840118408,
          3.080808162689209,
          3.1818182468414307,
          3.2828283309936523,
          3.383838415145874,
          3.4848484992980957,
          3.5858585834503174,
          3.686868667602539,
          3.78787899017334,
          3.8888888359069824,
          3.989898920059204,
          4.090909004211426,
          4.191919326782227,
          4.292929172515869,
          4.39393949508667,
          4.4949493408203125,
          4.595959663391113,
          4.696969509124756,
          4.797979831695557,
          4.898989677429199,
          5
         ],
         "xaxis": "x",
         "y": [
          -2.980232238769531e-7,
          -4.380038092222094e-7,
          -8.579456789448159e-7,
          -0.000001539786580906366,
          -0.000002876375674532028,
          -0.000005224437245487934,
          -0.000009297421456722077,
          -0.00001612034611753188,
          -0.00002723450779740233,
          -0.00004523179813986644,
          -0.00007372312393272296,
          -0.00011809998977696523,
          -0.00018581296899355948,
          -0.0002874388883356005,
          -0.00043708569137379527,
          -0.0006538809975609183,
          -0.0009626782266423106,
          -0.0013950421707704663,
          -0.0019909576512873173,
          -0.0027990792877972126,
          -0.003878021379932761,
          -0.005296441726386547,
          -0.007133185397833586,
          -0.00947618205100298,
          -0.012420804239809513,
          -0.01606721244752407,
          -0.020516356453299522,
          -0.025864893570542336,
          -0.0321984589099884,
          -0.03958403691649437,
          -0.04806089028716087,
          -0.05763048678636551,
          -0.06824617832899094,
          -0.07980237901210785,
          -0.09212450683116913,
          -0.10495994985103607,
          -0.11797140538692474,
          -0.13073286414146423,
          -0.1427294760942459,
          -0.15336163341999054,
          -0.16195444762706757,
          -0.16777166724205017,
          -0.17003512382507324,
          -0.167948380112648,
          -0.16072368621826172,
          -0.1476113200187683,
          -0.127929225564003,
          -0.10109159350395203,
          -0.06663425266742706,
          -0.024235397577285767,
          0.026269642636179924,
          0.08488088846206665,
          0.15143360197544098,
          0.2256060540676117,
          0.30693408846855164,
          0.3948318064212799,
          0.48861733078956604,
          0.5875406861305237,
          0.6908142566680908,
          0.7976416349411011,
          0.9072444438934326,
          1.018886685371399,
          1.131893515586853,
          1.2456650733947754,
          1.3596866130828857,
          1.4735321998596191,
          1.5868643522262573,
          1.6994307041168213,
          1.8110564947128296,
          1.9216362237930298,
          2.031123399734497,
          2.1395187377929688,
          2.2468624114990234,
          2.3532209396362305,
          2.4586801528930664,
          2.5633366107940674,
          2.6672914028167725,
          2.770644426345825,
          2.8734915256500244,
          2.9759199619293213,
          3.0780091285705566,
          3.1798272132873535,
          3.28143310546875,
          3.382875680923462,
          3.48419451713562,
          3.585421562194824,
          3.6865811347961426,
          3.7876932621002197,
          3.888770580291748,
          3.9898252487182617,
          4.0908637046813965,
          4.191892147064209,
          4.29291296005249,
          4.393929958343506,
          4.494944095611572,
          4.595956802368164,
          4.696967601776123,
          4.79797887802124,
          4.898989200592041,
          4.999999523162842
         ],
         "yaxis": "y"
        }
       ],
       "layout": {
        "legend": {
         "tracegroupgap": 0
        },
        "margin": {
         "t": 60
        },
        "template": {
         "data": {
          "bar": [
           {
            "error_x": {
             "color": "rgb(51,51,51)"
            },
            "error_y": {
             "color": "rgb(51,51,51)"
            },
            "marker": {
             "line": {
              "color": "rgb(237,237,237)",
              "width": 0.5
             },
             "pattern": {
              "fillmode": "overlay",
              "size": 10,
              "solidity": 0.2
             }
            },
            "type": "bar"
           }
          ],
          "barpolar": [
           {
            "marker": {
             "line": {
              "color": "rgb(237,237,237)",
              "width": 0.5
             },
             "pattern": {
              "fillmode": "overlay",
              "size": 10,
              "solidity": 0.2
             }
            },
            "type": "barpolar"
           }
          ],
          "carpet": [
           {
            "aaxis": {
             "endlinecolor": "rgb(51,51,51)",
             "gridcolor": "white",
             "linecolor": "white",
             "minorgridcolor": "white",
             "startlinecolor": "rgb(51,51,51)"
            },
            "baxis": {
             "endlinecolor": "rgb(51,51,51)",
             "gridcolor": "white",
             "linecolor": "white",
             "minorgridcolor": "white",
             "startlinecolor": "rgb(51,51,51)"
            },
            "type": "carpet"
           }
          ],
          "choropleth": [
           {
            "colorbar": {
             "outlinewidth": 0,
             "tickcolor": "rgb(237,237,237)",
             "ticklen": 6,
             "ticks": "inside"
            },
            "type": "choropleth"
           }
          ],
          "contour": [
           {
            "colorbar": {
             "outlinewidth": 0,
             "tickcolor": "rgb(237,237,237)",
             "ticklen": 6,
             "ticks": "inside"
            },
            "colorscale": [
             [
              0,
              "rgb(20,44,66)"
             ],
             [
              1,
              "rgb(90,179,244)"
             ]
            ],
            "type": "contour"
           }
          ],
          "contourcarpet": [
           {
            "colorbar": {
             "outlinewidth": 0,
             "tickcolor": "rgb(237,237,237)",
             "ticklen": 6,
             "ticks": "inside"
            },
            "type": "contourcarpet"
           }
          ],
          "heatmap": [
           {
            "colorbar": {
             "outlinewidth": 0,
             "tickcolor": "rgb(237,237,237)",
             "ticklen": 6,
             "ticks": "inside"
            },
            "colorscale": [
             [
              0,
              "rgb(20,44,66)"
             ],
             [
              1,
              "rgb(90,179,244)"
             ]
            ],
            "type": "heatmap"
           }
          ],
          "heatmapgl": [
           {
            "colorbar": {
             "outlinewidth": 0,
             "tickcolor": "rgb(237,237,237)",
             "ticklen": 6,
             "ticks": "inside"
            },
            "colorscale": [
             [
              0,
              "rgb(20,44,66)"
             ],
             [
              1,
              "rgb(90,179,244)"
             ]
            ],
            "type": "heatmapgl"
           }
          ],
          "histogram": [
           {
            "marker": {
             "pattern": {
              "fillmode": "overlay",
              "size": 10,
              "solidity": 0.2
             }
            },
            "type": "histogram"
           }
          ],
          "histogram2d": [
           {
            "colorbar": {
             "outlinewidth": 0,
             "tickcolor": "rgb(237,237,237)",
             "ticklen": 6,
             "ticks": "inside"
            },
            "colorscale": [
             [
              0,
              "rgb(20,44,66)"
             ],
             [
              1,
              "rgb(90,179,244)"
             ]
            ],
            "type": "histogram2d"
           }
          ],
          "histogram2dcontour": [
           {
            "colorbar": {
             "outlinewidth": 0,
             "tickcolor": "rgb(237,237,237)",
             "ticklen": 6,
             "ticks": "inside"
            },
            "colorscale": [
             [
              0,
              "rgb(20,44,66)"
             ],
             [
              1,
              "rgb(90,179,244)"
             ]
            ],
            "type": "histogram2dcontour"
           }
          ],
          "mesh3d": [
           {
            "colorbar": {
             "outlinewidth": 0,
             "tickcolor": "rgb(237,237,237)",
             "ticklen": 6,
             "ticks": "inside"
            },
            "type": "mesh3d"
           }
          ],
          "parcoords": [
           {
            "line": {
             "colorbar": {
              "outlinewidth": 0,
              "tickcolor": "rgb(237,237,237)",
              "ticklen": 6,
              "ticks": "inside"
             }
            },
            "type": "parcoords"
           }
          ],
          "pie": [
           {
            "automargin": true,
            "type": "pie"
           }
          ],
          "scatter": [
           {
            "fillpattern": {
             "fillmode": "overlay",
             "size": 10,
             "solidity": 0.2
            },
            "type": "scatter"
           }
          ],
          "scatter3d": [
           {
            "line": {
             "colorbar": {
              "outlinewidth": 0,
              "tickcolor": "rgb(237,237,237)",
              "ticklen": 6,
              "ticks": "inside"
             }
            },
            "marker": {
             "colorbar": {
              "outlinewidth": 0,
              "tickcolor": "rgb(237,237,237)",
              "ticklen": 6,
              "ticks": "inside"
             }
            },
            "type": "scatter3d"
           }
          ],
          "scattercarpet": [
           {
            "marker": {
             "colorbar": {
              "outlinewidth": 0,
              "tickcolor": "rgb(237,237,237)",
              "ticklen": 6,
              "ticks": "inside"
             }
            },
            "type": "scattercarpet"
           }
          ],
          "scattergeo": [
           {
            "marker": {
             "colorbar": {
              "outlinewidth": 0,
              "tickcolor": "rgb(237,237,237)",
              "ticklen": 6,
              "ticks": "inside"
             }
            },
            "type": "scattergeo"
           }
          ],
          "scattergl": [
           {
            "marker": {
             "colorbar": {
              "outlinewidth": 0,
              "tickcolor": "rgb(237,237,237)",
              "ticklen": 6,
              "ticks": "inside"
             }
            },
            "type": "scattergl"
           }
          ],
          "scattermapbox": [
           {
            "marker": {
             "colorbar": {
              "outlinewidth": 0,
              "tickcolor": "rgb(237,237,237)",
              "ticklen": 6,
              "ticks": "inside"
             }
            },
            "type": "scattermapbox"
           }
          ],
          "scatterpolar": [
           {
            "marker": {
             "colorbar": {
              "outlinewidth": 0,
              "tickcolor": "rgb(237,237,237)",
              "ticklen": 6,
              "ticks": "inside"
             }
            },
            "type": "scatterpolar"
           }
          ],
          "scatterpolargl": [
           {
            "marker": {
             "colorbar": {
              "outlinewidth": 0,
              "tickcolor": "rgb(237,237,237)",
              "ticklen": 6,
              "ticks": "inside"
             }
            },
            "type": "scatterpolargl"
           }
          ],
          "scatterternary": [
           {
            "marker": {
             "colorbar": {
              "outlinewidth": 0,
              "tickcolor": "rgb(237,237,237)",
              "ticklen": 6,
              "ticks": "inside"
             }
            },
            "type": "scatterternary"
           }
          ],
          "surface": [
           {
            "colorbar": {
             "outlinewidth": 0,
             "tickcolor": "rgb(237,237,237)",
             "ticklen": 6,
             "ticks": "inside"
            },
            "colorscale": [
             [
              0,
              "rgb(20,44,66)"
             ],
             [
              1,
              "rgb(90,179,244)"
             ]
            ],
            "type": "surface"
           }
          ],
          "table": [
           {
            "cells": {
             "fill": {
              "color": "rgb(237,237,237)"
             },
             "line": {
              "color": "white"
             }
            },
            "header": {
             "fill": {
              "color": "rgb(217,217,217)"
             },
             "line": {
              "color": "white"
             }
            },
            "type": "table"
           }
          ]
         },
         "layout": {
          "annotationdefaults": {
           "arrowhead": 0,
           "arrowwidth": 1
          },
          "autotypenumbers": "strict",
          "coloraxis": {
           "colorbar": {
            "outlinewidth": 0,
            "tickcolor": "rgb(237,237,237)",
            "ticklen": 6,
            "ticks": "inside"
           }
          },
          "colorscale": {
           "sequential": [
            [
             0,
             "rgb(20,44,66)"
            ],
            [
             1,
             "rgb(90,179,244)"
            ]
           ],
           "sequentialminus": [
            [
             0,
             "rgb(20,44,66)"
            ],
            [
             1,
             "rgb(90,179,244)"
            ]
           ]
          },
          "colorway": [
           "#F8766D",
           "#A3A500",
           "#00BF7D",
           "#00B0F6",
           "#E76BF3"
          ],
          "font": {
           "color": "rgb(51,51,51)"
          },
          "geo": {
           "bgcolor": "white",
           "lakecolor": "white",
           "landcolor": "rgb(237,237,237)",
           "showlakes": true,
           "showland": true,
           "subunitcolor": "white"
          },
          "hoverlabel": {
           "align": "left"
          },
          "hovermode": "closest",
          "paper_bgcolor": "white",
          "plot_bgcolor": "rgb(237,237,237)",
          "polar": {
           "angularaxis": {
            "gridcolor": "white",
            "linecolor": "white",
            "showgrid": true,
            "tickcolor": "rgb(51,51,51)",
            "ticks": "outside"
           },
           "bgcolor": "rgb(237,237,237)",
           "radialaxis": {
            "gridcolor": "white",
            "linecolor": "white",
            "showgrid": true,
            "tickcolor": "rgb(51,51,51)",
            "ticks": "outside"
           }
          },
          "scene": {
           "xaxis": {
            "backgroundcolor": "rgb(237,237,237)",
            "gridcolor": "white",
            "gridwidth": 2,
            "linecolor": "white",
            "showbackground": true,
            "showgrid": true,
            "tickcolor": "rgb(51,51,51)",
            "ticks": "outside",
            "zerolinecolor": "white"
           },
           "yaxis": {
            "backgroundcolor": "rgb(237,237,237)",
            "gridcolor": "white",
            "gridwidth": 2,
            "linecolor": "white",
            "showbackground": true,
            "showgrid": true,
            "tickcolor": "rgb(51,51,51)",
            "ticks": "outside",
            "zerolinecolor": "white"
           },
           "zaxis": {
            "backgroundcolor": "rgb(237,237,237)",
            "gridcolor": "white",
            "gridwidth": 2,
            "linecolor": "white",
            "showbackground": true,
            "showgrid": true,
            "tickcolor": "rgb(51,51,51)",
            "ticks": "outside",
            "zerolinecolor": "white"
           }
          },
          "shapedefaults": {
           "fillcolor": "black",
           "line": {
            "width": 0
           },
           "opacity": 0.3
          },
          "ternary": {
           "aaxis": {
            "gridcolor": "white",
            "linecolor": "white",
            "showgrid": true,
            "tickcolor": "rgb(51,51,51)",
            "ticks": "outside"
           },
           "baxis": {
            "gridcolor": "white",
            "linecolor": "white",
            "showgrid": true,
            "tickcolor": "rgb(51,51,51)",
            "ticks": "outside"
           },
           "bgcolor": "rgb(237,237,237)",
           "caxis": {
            "gridcolor": "white",
            "linecolor": "white",
            "showgrid": true,
            "tickcolor": "rgb(51,51,51)",
            "ticks": "outside"
           }
          },
          "xaxis": {
           "automargin": true,
           "gridcolor": "white",
           "linecolor": "white",
           "showgrid": true,
           "tickcolor": "rgb(51,51,51)",
           "ticks": "outside",
           "title": {
            "standoff": 15
           },
           "zerolinecolor": "white"
          },
          "yaxis": {
           "automargin": true,
           "gridcolor": "white",
           "linecolor": "white",
           "showgrid": true,
           "tickcolor": "rgb(51,51,51)",
           "ticks": "outside",
           "title": {
            "standoff": 15
           },
           "zerolinecolor": "white"
          }
         }
        },
        "xaxis": {
         "anchor": "y",
         "domain": [
          0,
          1
         ],
         "title": {
          "text": "x"
         }
        },
        "yaxis": {
         "anchor": "x",
         "domain": [
          0,
          1
         ],
         "title": {
          "text": "y"
         }
        }
       }
      }
     },
     "metadata": {},
     "output_type": "display_data"
    }
   ],
   "source": [
    "class GELU(nn.Module):\n",
    "\n",
    "    def forward(self, x: t.Tensor) -> t.Tensor:\n",
    "        out = x * 0.5 * (1 + t.tanh(t.sqrt(t.tensor(2 / t.pi)) * (x + 0.044715 * x ** 3)))\n",
    "        return out\n",
    "\n",
    "utils.plot_gelu(GELU)"
   ]
  },
  {
   "cell_type": "code",
   "execution_count": null,
   "metadata": {},
   "outputs": [],
   "source": [
    "def single_head_attention(Q: t.Tensor, K: t.Tensor, V: t.Tensor) -> t.Tensor:\n",
    "    '''\n",
    "    Should return the results of self-attention (see the \"Self-Attention in Detail\" section of the Illustrated Transformer).\n",
    "\n",
    "    With this function, you can ignore masking.\n",
    "\n",
    "    Q: shape (FILL THIS IN!)\n",
    "    K: shape (FILL THIS IN!)\n",
    "    V: shape (FILL THIS IN!)\n",
    "\n",
    "    Return: shape (FILL THIS IN!)\n",
    "    '''\n",
    "    pass"
   ]
  }
 ],
 "metadata": {
  "kernelspec": {
   "display_name": "Python 3.9.12 ('arena')",
   "language": "python",
   "name": "python3"
  },
  "language_info": {
   "codemirror_mode": {
    "name": "ipython",
    "version": 3
   },
   "file_extension": ".py",
   "mimetype": "text/x-python",
   "name": "python",
   "nbconvert_exporter": "python",
   "pygments_lexer": "ipython3",
   "version": "3.9.12"
  },
  "orig_nbformat": 4,
  "vscode": {
   "interpreter": {
    "hash": "e28c680d33f95a364b6d7e112cefa96ea26c04ddac857c82a143b1aa5b3dfb2e"
   }
  }
 },
 "nbformat": 4,
 "nbformat_minor": 2
}
