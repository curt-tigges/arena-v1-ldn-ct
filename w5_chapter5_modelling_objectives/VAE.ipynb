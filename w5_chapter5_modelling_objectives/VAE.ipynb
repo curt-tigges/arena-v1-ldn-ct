{
 "cells": [
  {
   "cell_type": "code",
   "execution_count": 1,
   "metadata": {},
   "outputs": [],
   "source": [
    "import torch as t\n",
    "from torch import nn\n",
    "import pandas as pd\n",
    "import torch.nn.functional as F\n",
    "import plotly.express as px\n",
    "import plotly.graph_objects as go\n",
    "import torchvision\n",
    "from matplotlib import pyplot as plt\n",
    "from einops import rearrange, reduce, repeat\n",
    "from einops.layers.torch import Rearrange\n",
    "from torchvision import transforms, datasets\n",
    "from torch.utils.data import DataLoader\n",
    "from pytorch_lightning.callbacks.progress import TQDMProgressBar\n",
    "from pytorch_lightning.loggers import WandbLogger\n",
    "from dataclasses import dataclass\n",
    "import pytorch_lightning as pl\n",
    "import wandb"
   ]
  },
  {
   "cell_type": "code",
   "execution_count": 2,
   "metadata": {},
   "outputs": [],
   "source": [
    "from typing import Tuple\n",
    "\n",
    "\n",
    "@dataclass\n",
    "class AEargs():\n",
    "    in_features: int = 784\n",
    "    hidden_dim: int = 100\n",
    "    latent_dim_size: int = 10\n",
    "    beta: float = 0.1\n",
    "    img_size: int = 28\n",
    "    batch_size: int = 512\n",
    "    epochs: int = 15\n",
    "    lr: float = 0.001\n",
    "    betas: Tuple[float] = (0.9, 0.999)\n",
    "    track: bool = False\n",
    "    cuda: bool = False"
   ]
  },
  {
   "cell_type": "code",
   "execution_count": 3,
   "metadata": {},
   "outputs": [],
   "source": [
    "class VariationalAutoencoder(nn.Module):\n",
    "    encoder: nn.Sequential\n",
    "    decoder: nn.Sequential\n",
    "\n",
    "    def __init__(self, args: AEargs):\n",
    "        super().__init__()\n",
    "        self.encoder = nn.Sequential(\n",
    "            Rearrange('b c h w -> b (c h w)'),\n",
    "            nn.Linear(in_features=args.in_features, out_features=args.hidden_dim),\n",
    "            nn.ReLU(),\n",
    "            nn.Linear(in_features=args.hidden_dim, out_features=args.latent_dim_size*2),\n",
    "            Rearrange(\"b (n latent_dim) -> n b latent_dim\", n=2)\n",
    "        )\n",
    "\n",
    "        self.decoder = nn.Sequential(\n",
    "            nn.Linear(in_features=args.latent_dim_size, out_features=args.hidden_dim),\n",
    "            nn.ReLU(),\n",
    "            nn.Linear(in_features=args.hidden_dim, out_features=args.in_features),\n",
    "            Rearrange('b (c h w) -> b c h w', h=args.img_size, w=args.img_size),\n",
    "        )\n",
    "\n",
    "    def forward(self, x: t.Tensor) -> t.Tensor:\n",
    "        mu, logsigma = self.encoder(x)\n",
    "        sigma = t.exp(logsigma)\n",
    "\n",
    "        x_compressed = t.randn_like(mu) * sigma + mu\n",
    "\n",
    "        x_reconstructed = self.decoder(x_compressed)\n",
    "\n",
    "        return x_reconstructed, mu, logsigma"
   ]
  },
  {
   "cell_type": "code",
   "execution_count": 4,
   "metadata": {},
   "outputs": [],
   "source": [
    "class VAE_PL(pl.LightningModule):\n",
    "    def __init__(self, args: AEargs):\n",
    "        super().__init__()\n",
    "        self.save_hyperparameters()\n",
    "        self.args = args\n",
    "        self.model = VariationalAutoencoder(args)\n",
    "        self.reconstruction_loss = nn.MSELoss()\n",
    "\n",
    "    def ELBOLoss(self, x_hat, x, mu, logsigma):\n",
    "        MSE = self.reconstruction_loss(x_hat, x)\n",
    "        KLD = (0.5 * (mu.pow(2) + t.exp(logsigma) - 1) - logsigma).mean()\n",
    "        self.log('KL_divergence', KLD, prog_bar=True)\n",
    "        return MSE + self.hparams.args.beta * KLD\n",
    "\n",
    "    def forward(self, x: t.Tensor) -> t.Tensor:\n",
    "        return self.model(x)\n",
    "\n",
    "    def training_step(self, batch, batch_idx):\n",
    "        x, _ = batch\n",
    "        x_hat, mu, logsigma = self(x)\n",
    "        loss = self.ELBOLoss(x_hat, x, mu, logsigma)\n",
    "        self.log('train_loss', loss, prog_bar=True)\n",
    "        return loss\n",
    "\n",
    "    def validation_step(self, batch, batch_idx):\n",
    "        x, _ = batch\n",
    "        x_hat, mu, logsigma = self(x)\n",
    "        loss = self.ELBOLoss(x_hat, x, mu, logsigma)\n",
    "        self.log('val_loss', loss, prog_bar=True)\n",
    "\n",
    "        # Log images every 100 batches\n",
    "        if batch_idx % 100 == 0:\n",
    "            images = [wandb.Image(arr) for arr in x_hat[:10]]\n",
    "            wandb.log({'reconstructed_images': images})\n",
    "\n",
    "            noise = t.randn(10, self.hparams.args.latent_dim_size)\n",
    "            x_hat_gen = self.model.decoder(noise)\n",
    "            gen_images = [wandb.Image(arr) for arr in x_hat_gen]\n",
    "            wandb.log({'generated_images': gen_images})\n",
    "\n",
    "    def configure_optimizers(self):\n",
    "        optimizer = t.optim.Adam(self.parameters(), lr=self.args.lr, betas=self.args.betas, weight_decay=1e-5)\n",
    "        return optimizer"
   ]
  },
  {
   "cell_type": "code",
   "execution_count": 5,
   "metadata": {},
   "outputs": [],
   "source": [
    "args = AEargs(epochs=15, batch_size=64, beta=0.1)\n",
    "\n",
    "transform = transforms.Compose([transforms.ToTensor(), transforms.Normalize((0.1307,), (0.3081,))])\n",
    "\n",
    "trainset = datasets.MNIST(root=\"./data\", train=True, transform=transform, download=True)\n",
    "trainloader = DataLoader(trainset, batch_size=args.batch_size, shuffle=True, num_workers=8)\n",
    "testset = datasets.MNIST(root=\"./data\", train=False, transform=transform, download=True)\n",
    "testloader = DataLoader(testset, batch_size=args.batch_size, shuffle=False, num_workers=8)"
   ]
  },
  {
   "cell_type": "code",
   "execution_count": 6,
   "metadata": {},
   "outputs": [
    {
     "name": "stderr",
     "output_type": "stream",
     "text": [
      "Failed to detect the name of this notebook, you can set it manually with the WANDB_NOTEBOOK_NAME environment variable to enable code saving.\n",
      "\u001b[34m\u001b[1mwandb\u001b[0m: Currently logged in as: \u001b[33mcurt-tigges\u001b[0m (\u001b[33marena-ldn\u001b[0m). Use \u001b[1m`wandb login --relogin`\u001b[0m to force relogin\n"
     ]
    },
    {
     "data": {
      "text/html": [
       "wandb version 0.13.6 is available!  To upgrade, please run:\n",
       " $ pip install wandb --upgrade"
      ],
      "text/plain": [
       "<IPython.core.display.HTML object>"
      ]
     },
     "metadata": {},
     "output_type": "display_data"
    },
    {
     "data": {
      "text/html": [
       "Tracking run with wandb version 0.13.5"
      ],
      "text/plain": [
       "<IPython.core.display.HTML object>"
      ]
     },
     "metadata": {},
     "output_type": "display_data"
    },
    {
     "data": {
      "text/html": [
       "Run data is saved locally in <code>./wandb/run-20221207_111544-x3vpcaqf</code>"
      ],
      "text/plain": [
       "<IPython.core.display.HTML object>"
      ]
     },
     "metadata": {},
     "output_type": "display_data"
    },
    {
     "data": {
      "text/html": [
       "Syncing run <strong><a href=\"https://wandb.ai/arena-ldn/Curt-VAE/runs/x3vpcaqf\" target=\"_blank\">rich-gorge-20</a></strong> to <a href=\"https://wandb.ai/arena-ldn/Curt-VAE\" target=\"_blank\">Weights & Biases</a> (<a href=\"https://wandb.me/run\" target=\"_blank\">docs</a>)<br/>"
      ],
      "text/plain": [
       "<IPython.core.display.HTML object>"
      ]
     },
     "metadata": {},
     "output_type": "display_data"
    },
    {
     "name": "stderr",
     "output_type": "stream",
     "text": [
      "GPU available: False, used: False\n",
      "TPU available: False, using: 0 TPU cores\n",
      "IPU available: False, using: 0 IPUs\n",
      "HPU available: False, using: 0 HPUs\n"
     ]
    }
   ],
   "source": [
    "\n",
    "model = VAE_PL(args)\n",
    "wandb_logger = WandbLogger(project=\"Curt-VAE\")\n",
    "trainer = pl.Trainer(\n",
    "    accelerator=\"auto\",\n",
    "    devices=1 if t.cuda.is_available() else None,  # limiting got iPython runs\n",
    "    max_epochs=args.epochs,\n",
    "    callbacks=[TQDMProgressBar(refresh_rate=20)],\n",
    "    logger=wandb_logger,\n",
    ")"
   ]
  },
  {
   "cell_type": "code",
   "execution_count": 7,
   "metadata": {},
   "outputs": [
    {
     "name": "stderr",
     "output_type": "stream",
     "text": [
      "\n",
      "  | Name                | Type                   | Params\n",
      "---------------------------------------------------------------\n",
      "0 | model               | VariationalAutoencoder | 160 K \n",
      "1 | reconstruction_loss | MSELoss                | 0     \n",
      "---------------------------------------------------------------\n",
      "160 K     Trainable params\n",
      "0         Non-trainable params\n",
      "160 K     Total params\n",
      "0.643     Total estimated model params size (MB)\n"
     ]
    },
    {
     "data": {
      "application/vnd.jupyter.widget-view+json": {
       "model_id": "9b9ab8168bf54503afbdc215339753d3",
       "version_major": 2,
       "version_minor": 0
      },
      "text/plain": [
       "Sanity Checking: 0it [00:00, ?it/s]"
      ]
     },
     "metadata": {},
     "output_type": "display_data"
    },
    {
     "data": {
      "application/vnd.jupyter.widget-view+json": {
       "model_id": "86973be26b5a4d039650dac91978658c",
       "version_major": 2,
       "version_minor": 0
      },
      "text/plain": [
       "Training: 0it [00:00, ?it/s]"
      ]
     },
     "metadata": {},
     "output_type": "display_data"
    },
    {
     "data": {
      "application/vnd.jupyter.widget-view+json": {
       "model_id": "571569a5ead846939ea5c3c94ac1a20c",
       "version_major": 2,
       "version_minor": 0
      },
      "text/plain": [
       "Validation: 0it [00:00, ?it/s]"
      ]
     },
     "metadata": {},
     "output_type": "display_data"
    },
    {
     "data": {
      "application/vnd.jupyter.widget-view+json": {
       "model_id": "e67805fbe49348cabf7ae7d28b0624de",
       "version_major": 2,
       "version_minor": 0
      },
      "text/plain": [
       "Validation: 0it [00:00, ?it/s]"
      ]
     },
     "metadata": {},
     "output_type": "display_data"
    },
    {
     "data": {
      "application/vnd.jupyter.widget-view+json": {
       "model_id": "d027e1a584b64aa88db7ec8f7cf93a52",
       "version_major": 2,
       "version_minor": 0
      },
      "text/plain": [
       "Validation: 0it [00:00, ?it/s]"
      ]
     },
     "metadata": {},
     "output_type": "display_data"
    },
    {
     "data": {
      "application/vnd.jupyter.widget-view+json": {
       "model_id": "9020061af89d4614879787d88bd9216b",
       "version_major": 2,
       "version_minor": 0
      },
      "text/plain": [
       "Validation: 0it [00:00, ?it/s]"
      ]
     },
     "metadata": {},
     "output_type": "display_data"
    },
    {
     "data": {
      "application/vnd.jupyter.widget-view+json": {
       "model_id": "2553f12c63db4031b1f7b4e2061d0b9c",
       "version_major": 2,
       "version_minor": 0
      },
      "text/plain": [
       "Validation: 0it [00:00, ?it/s]"
      ]
     },
     "metadata": {},
     "output_type": "display_data"
    },
    {
     "data": {
      "application/vnd.jupyter.widget-view+json": {
       "model_id": "2eb862f9d5924d778297f280e14f602a",
       "version_major": 2,
       "version_minor": 0
      },
      "text/plain": [
       "Validation: 0it [00:00, ?it/s]"
      ]
     },
     "metadata": {},
     "output_type": "display_data"
    },
    {
     "data": {
      "application/vnd.jupyter.widget-view+json": {
       "model_id": "66c378e43be04f1ea1c6e8dc437b607d",
       "version_major": 2,
       "version_minor": 0
      },
      "text/plain": [
       "Validation: 0it [00:00, ?it/s]"
      ]
     },
     "metadata": {},
     "output_type": "display_data"
    },
    {
     "data": {
      "application/vnd.jupyter.widget-view+json": {
       "model_id": "80d187c1b9ab42fb88f495d1928d46ae",
       "version_major": 2,
       "version_minor": 0
      },
      "text/plain": [
       "Validation: 0it [00:00, ?it/s]"
      ]
     },
     "metadata": {},
     "output_type": "display_data"
    },
    {
     "data": {
      "application/vnd.jupyter.widget-view+json": {
       "model_id": "2f9ee257517b4139b52ca43cc7457c17",
       "version_major": 2,
       "version_minor": 0
      },
      "text/plain": [
       "Validation: 0it [00:00, ?it/s]"
      ]
     },
     "metadata": {},
     "output_type": "display_data"
    },
    {
     "data": {
      "application/vnd.jupyter.widget-view+json": {
       "model_id": "0e8044731562446994e371b963559c4a",
       "version_major": 2,
       "version_minor": 0
      },
      "text/plain": [
       "Validation: 0it [00:00, ?it/s]"
      ]
     },
     "metadata": {},
     "output_type": "display_data"
    },
    {
     "data": {
      "application/vnd.jupyter.widget-view+json": {
       "model_id": "9dabb8df9c254d6fad34cc6e26ed3e7f",
       "version_major": 2,
       "version_minor": 0
      },
      "text/plain": [
       "Validation: 0it [00:00, ?it/s]"
      ]
     },
     "metadata": {},
     "output_type": "display_data"
    },
    {
     "data": {
      "application/vnd.jupyter.widget-view+json": {
       "model_id": "580dc7f95cd046a69fe052d2f3393186",
       "version_major": 2,
       "version_minor": 0
      },
      "text/plain": [
       "Validation: 0it [00:00, ?it/s]"
      ]
     },
     "metadata": {},
     "output_type": "display_data"
    },
    {
     "data": {
      "application/vnd.jupyter.widget-view+json": {
       "model_id": "d5f76fc68ea240f9be1cf50ecd7986d8",
       "version_major": 2,
       "version_minor": 0
      },
      "text/plain": [
       "Validation: 0it [00:00, ?it/s]"
      ]
     },
     "metadata": {},
     "output_type": "display_data"
    },
    {
     "data": {
      "application/vnd.jupyter.widget-view+json": {
       "model_id": "4d878204cc304dbd819d7caaf92e5a80",
       "version_major": 2,
       "version_minor": 0
      },
      "text/plain": [
       "Validation: 0it [00:00, ?it/s]"
      ]
     },
     "metadata": {},
     "output_type": "display_data"
    },
    {
     "data": {
      "application/vnd.jupyter.widget-view+json": {
       "model_id": "1e50af40a4bd4a1ea140cd28c342bb10",
       "version_major": 2,
       "version_minor": 0
      },
      "text/plain": [
       "Validation: 0it [00:00, ?it/s]"
      ]
     },
     "metadata": {},
     "output_type": "display_data"
    },
    {
     "name": "stderr",
     "output_type": "stream",
     "text": [
      "`Trainer.fit` stopped: `max_epochs=15` reached.\n"
     ]
    }
   ],
   "source": [
    "trainer.fit(train_dataloaders=trainloader, val_dataloaders=testloader, model=model)"
   ]
  },
  {
   "cell_type": "code",
   "execution_count": 8,
   "metadata": {},
   "outputs": [],
   "source": [
    "output = model(next(iter(trainloader))[0])"
   ]
  },
  {
   "cell_type": "code",
   "execution_count": 9,
   "metadata": {},
   "outputs": [
    {
     "name": "stderr",
     "output_type": "stream",
     "text": [
      "Clipping input data to the valid range for imshow with RGB data ([0..1] for floats or [0..255] for integers).\n"
     ]
    },
    {
     "data": {
      "image/png": "[encoded data removed]",
      "text/plain": [
       "<Figure size 2000x2000 with 1 Axes>"
      ]
     },
     "metadata": {},
     "output_type": "display_data"
    }
   ],
   "source": [
    "from w5d1_utils import show_images\n",
    "\n",
    "def display_image_batch(batch: t.Tensor, nrow: int = 8, title: str = \"Batch of images\"):\n",
    "    \"\"\"Function to display a batch of images using PIL\"\"\"\n",
    "    batch = batch.detach().cpu()\n",
    "    grid = torchvision.utils.make_grid(batch, nrow=nrow)\n",
    "    plt.figure(figsize=(20, 20))\n",
    "    plt.title(title)\n",
    "    plt.imshow(grid.permute(1, 2, 0))\n",
    "    plt.show()\n",
    "    \n",
    "display_image_batch(output[0])\n"
   ]
  },
  {
   "cell_type": "code",
   "execution_count": null,
   "metadata": {},
   "outputs": [],
   "source": []
  }
 ],
 "metadata": {
  "kernelspec": {
   "display_name": "Python 3.9.13 ('arena')",
   "language": "python",
   "name": "python3"
  },
  "language_info": {
   "codemirror_mode": {
    "name": "ipython",
    "version": 3
   },
   "file_extension": ".py",
   "mimetype": "text/x-python",
   "name": "python",
   "nbconvert_exporter": "python",
   "pygments_lexer": "ipython3",
   "version": "3.9.13"
  },
  "orig_nbformat": 4,
  "vscode": {
   "interpreter": {
    "hash": "e28c680d33f95a364b6d7e112cefa96ea26c04ddac857c82a143b1aa5b3dfb2e"
   }
  }
 },
 "nbformat": 4,
 "nbformat_minor": 2
}
