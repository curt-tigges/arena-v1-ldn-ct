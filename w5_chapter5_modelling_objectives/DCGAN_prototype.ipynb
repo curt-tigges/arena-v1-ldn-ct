{
 "cells": [
  {
   "cell_type": "code",
   "execution_count": 95,
   "metadata": {},
   "outputs": [],
   "source": [
    "import torch as t\n",
    "from typing import Union\n",
    "from torch import nn\n",
    "import torch.nn.functional as F\n",
    "import torchinfo\n",
    "import plotly.express as px\n",
    "import plotly.graph_objects as go\n",
    "from einops import rearrange, reduce, repeat\n",
    "from einops.layers.torch import Rearrange\n",
    "from fancy_einsum import einsum\n",
    "import os\n",
    "from tqdm.auto import tqdm\n",
    "from torchvision import transforms, datasets\n",
    "from torchvision.datasets import ImageFolder\n",
    "from torch.utils.data import Dataset, DataLoader, TensorDataset\n",
    "import wandb\n",
    "import w5d1_utils\n",
    "import w5d1_tests\n",
    "from dataclasses import dataclass\n",
    "import pytorch_lightning as pl\n",
    "\n",
    "#import sys \n",
    "#sys.path.append('../common_modules')\n"
   ]
  },
  {
   "cell_type": "code",
   "execution_count": 83,
   "metadata": {},
   "outputs": [],
   "source": [
    "def build_convtranspose_layers(\n",
    "    n_layers,\n",
    "    in_channels,\n",
    "    out_channels,\n",
    "    kernel_size=4,\n",
    "    stride=2,\n",
    "    padding=1,\n",
    "    batch_norm=True,\n",
    "    activation=nn.ReLU(),\n",
    "):\n",
    "    \"\"\"Builds a sequence of convolutional transpose layers with optional batch \n",
    "        normalization and activation layers.\n",
    "\n",
    "    Args:\n",
    "        n_layers (int): Number of convolutional transpose layers to build.\n",
    "        in_channels (int): Number of input channels.\n",
    "        out_channels (int): Number of output channels.\n",
    "        kernel_size (int): Size of the convolutional kernel.\n",
    "        stride (int): Stride of the convolution.\n",
    "        padding (int): Padding of the convolution.\n",
    "        output_padding (int): Output padding of the convolution.\n",
    "        batch_norm (bool): Whether to use batch normalization layers.\n",
    "        activation (nn.Module): Activation layer to use.\n",
    "\n",
    "    Returns:\n",
    "        nn.Sequential: A sequence of convolutional transpose layers.\n",
    "    \"\"\"\n",
    "    layers = []\n",
    "    in_channels = [in_channels // (2**i) for i in range(n_layers)]\n",
    "    out_channels = in_channels[1:] + [3]\n",
    "    for i in range(n_layers - 1):\n",
    "        layers.append(\n",
    "            nn.ConvTranspose2d(\n",
    "                in_channels=in_channels[i],\n",
    "                out_channels=out_channels[i],\n",
    "                kernel_size=kernel_size,\n",
    "                stride=stride,\n",
    "                padding=padding,\n",
    "                bias=False,\n",
    "            )\n",
    "        )\n",
    "        if batch_norm:\n",
    "            layers.append(nn.BatchNorm2d(out_channels[i]))\n",
    "        if activation is not None:\n",
    "            layers.append(activation)\n",
    "\n",
    "    # Last layer\n",
    "    layers.append(\n",
    "        nn.ConvTranspose2d(\n",
    "            in_channels=in_channels[-1],\n",
    "            out_channels=out_channels[-1],\n",
    "            kernel_size=kernel_size,\n",
    "            stride=stride,\n",
    "            padding=padding,\n",
    "            bias=False,\n",
    "        )\n",
    "    )\n",
    "    layers.append(nn.Tanh())\n",
    "\n",
    "    return nn.Sequential(*layers)\n"
   ]
  },
  {
   "cell_type": "code",
   "execution_count": 84,
   "metadata": {},
   "outputs": [],
   "source": [
    "def build_conv_layers(\n",
    "    n_layers,\n",
    "    img_channels,\n",
    "    generator_channels,\n",
    "    kernel_size=4,\n",
    "    stride=2,\n",
    "    padding=1,\n",
    "    batch_norm=True,\n",
    "    activation=nn.LeakyReLU(0.2),\n",
    "):\n",
    "    \"\"\"Builds a sequence of convolutional layers with optional batch \n",
    "        normalization and activation layers.\n",
    "\n",
    "    Args:\n",
    "        n_layers (int): Number of transpose layers to build.\n",
    "        kernel_size (int): Size of the convolutional kernel.\n",
    "        stride (int): Stride of the convolution.\n",
    "        padding (int): Padding of the convolution.\n",
    "        output_padding (int): Output padding of the convolution.\n",
    "        batch_norm (bool): Whether to use batch normalization layers.\n",
    "        activation (nn.Module): Activation layer to use.\n",
    "\n",
    "    Returns:\n",
    "        nn.Sequential: A sequence of convolutional transpose layers.\n",
    "    \"\"\"\n",
    "    layers = []\n",
    "\n",
    "    out_channels = [generator_channels // (2**i) for i in range(n_layers)][::-1]\n",
    "    in_channels = ([img_channels] + out_channels[:-1])\n",
    "    # First layer\n",
    "    layers.append(\n",
    "        nn.Conv2d(\n",
    "            in_channels=in_channels[0],\n",
    "            out_channels=out_channels[0],\n",
    "            kernel_size=kernel_size,\n",
    "            stride=stride,\n",
    "            padding=padding,\n",
    "            bias=False,\n",
    "        )\n",
    "    )\n",
    "    layers.append(activation)\n",
    "    \n",
    "    for i in range(1, n_layers):\n",
    "        layers.append(\n",
    "            nn.Conv2d(\n",
    "                in_channels=in_channels[i],\n",
    "                out_channels=out_channels[i],\n",
    "                kernel_size=kernel_size,\n",
    "                stride=stride,\n",
    "                padding=padding,\n",
    "                bias=False\n",
    "            )\n",
    "        )\n",
    "        if batch_norm:\n",
    "            layers.append(nn.BatchNorm2d(out_channels[i]))\n",
    "        if activation is not None:\n",
    "            layers.append(activation)\n",
    "\n",
    "    return nn.Sequential(*layers)\n",
    "\n",
    "def test_build_convtranspose_layers():\n",
    "    \"\"\"Test function for build_convtranspose_layers.\"\"\"\n",
    "    n_layers = 3\n",
    "    in_channels = 128\n",
    "    out_channels = 3\n",
    "    kernel_size = 4\n",
    "    stride = 2\n",
    "    padding = 1\n",
    "    output_padding = 0\n",
    "    batch_norm = True\n",
    "    activation = nn.ReLU()\n",
    "    layers = build_convtranspose_layers(\n",
    "        n_layers,\n",
    "        in_channels,\n",
    "        out_channels,\n",
    "        kernel_size,\n",
    "        stride,\n",
    "        padding,\n",
    "        output_padding,\n",
    "        batch_norm,\n",
    "        activation,\n",
    "    )\n",
    "    assert len(layers) == 2 * n_layers + 1\n",
    "    assert isinstance(layers[0], nn.ConvTranspose2d)\n",
    "    assert isinstance(layers[1], nn.BatchNorm2d)\n",
    "    assert isinstance(layers[2], nn.ReLU)\n",
    "    assert layers[0].in_channels == in_channels\n",
    "    assert layers[0].out_channels == out_channels\n",
    "    assert layers[0].kernel_size == (kernel_size, kernel_size)\n",
    "    assert layers[0].stride == (stride, stride)\n",
    "    assert layers[0].padding == (padding, padding)\n",
    "    assert layers[0].output_padding == (output_padding, output_padding)\n",
    "    assert layers[1].num_features == out_channels\n",
    "    assert isinstance(layers[-1], nn.Tanh)\n",
    "    print(\"Success!\")\n",
    "\n",
    "\n"
   ]
  },
  {
   "cell_type": "code",
   "execution_count": 69,
   "metadata": {},
   "outputs": [],
   "source": [
    "# Write a test for build_convtranspose_layers\n",
    "\n"
   ]
  },
  {
   "cell_type": "code",
   "execution_count": 85,
   "metadata": {},
   "outputs": [],
   "source": [
    "def initialize_weights(model) -> None:\n",
    "    \"\"\"Initializes the weights of the model.\n",
    "\n",
    "    Args:\n",
    "        model (nn.Module): Model to initialize.\n",
    "    \"\"\"\n",
    "    for m in model.modules():\n",
    "        if isinstance(m, nn.ConvTranspose2d) or isinstance(m, nn.Conv2d):\n",
    "            nn.init.normal_(m.weight, 0.0, 0.02)\n",
    "        elif isinstance(m, nn.BatchNorm2d):\n",
    "            nn.init.normal_(m.weight, 1.0, 0.02)\n",
    "            nn.init.constant_(m.bias, 0)"
   ]
  },
  {
   "cell_type": "code",
   "execution_count": 120,
   "metadata": {},
   "outputs": [],
   "source": [
    "class Generator(nn.Module):\n",
    "    def __init__(\n",
    "        self,\n",
    "        latent_dim_size: int,\n",
    "        img_size: int,\n",
    "        img_channels: int,\n",
    "        generator_num_features: int,\n",
    "        n_layers: int,\n",
    "        scale_factor: int = 2,\n",
    "    ):\n",
    "        \"\"\"Implementation of DCGAN \n",
    "generator\n",
    "\n",
    "        Args:\n",
    "            self (Generator): Module\n",
    "            latent_dim_size (int): size of the random vector we use for generating output\n",
    "            img_size (int): size of the images we're generating\n",
    "            img_channels (int): indicates RGB images\n",
    "            generator_num_features (int): number of channels after first projection and reshaping\n",
    "            n_layers (int): number of CONV_n layers\n",
    "            scale_factor (int): scale factor for upsampling\n",
    "        \"\"\"\n",
    "        super().__init__()\n",
    "        self.latent_dim_size = latent_dim_size\n",
    "        self.img_size = img_size\n",
    "        self.img_channels = img_channels\n",
    "        self.generator_num_features = generator_num_features\n",
    "        self.n_layers = n_layers\n",
    "        print(f\"{img_size=} {img_channels=} {generator_num_features=} {n_layers=}\")\n",
    "        #assert img_size % (scale_factor**self.n_layers) == 0\n",
    "        self.initial = nn.Sequential(\n",
    "            nn.Linear(\n",
    "                latent_dim_size,\n",
    "                generator_num_features * (img_size // scale_factor**self.n_layers) ** 2,\n",
    "            ),\n",
    "            Rearrange(\n",
    "                \"b (c h w) -> b c h w\", h=img_size // scale_factor**self.n_layers,\n",
    "                w=img_size // scale_factor**self.n_layers\n",
    "            ),\n",
    "            nn.BatchNorm2d(generator_num_features),\n",
    "            nn.ReLU(),\n",
    "        )\n",
    "\n",
    "        self.layers = build_convtranspose_layers(\n",
    "            n_layers,\n",
    "            in_channels=generator_num_features,\n",
    "            out_channels=generator_num_features // 2,\n",
    "            kernel_size=4,\n",
    "            stride=2,\n",
    "            padding=1,\n",
    "            batch_norm=True,\n",
    "            activation=nn.ReLU(),\n",
    "        )\n",
    "\n",
    "    def forward(self, x: t.Tensor):\n",
    "        \"\"\"Forward pass of the \n",
    "generator\n",
    "\n",
    "        Args:\n",
    "            self (Generator): Module\n",
    "            x (t.Tensor): input tensor\n",
    "\n",
    "        Returns:\n",
    "            t.Tensor: generated image\n",
    "        \"\"\"\n",
    "        x = self.initial(x)\n",
    "        x = self.layers(x)\n",
    "        return x\n",
    "\n",
    "\n",
    "class Discriminator(nn.Module):\n",
    "    def __init__(\n",
    "        self,\n",
    "        img_size: int,\n",
    "        img_channels: int,\n",
    "        generator_num_features: int,\n",
    "        n_layers: int,\n",
    "    ):\n",
    "        \"\"\"Implementation of DCGAN discriminator\n",
    "\n",
    "        Args:\n",
    "            img_size (int): _description_\n",
    "            img_channels (int): _description_\n",
    "            generator_num_features (int): _description_\n",
    "            n_layers (int): _description_\n",
    "        \"\"\"        \n",
    "        super().__init__()\n",
    "        self.img_size = img_size\n",
    "        self.img_channels = img_channels\n",
    "        self.generator_num_features = generator_num_features\n",
    "        self.n_layers = n_layers\n",
    "\n",
    "        self.layers = build_conv_layers(n_layers, img_channels, generator_num_features)\n",
    "        self.flattened = Rearrange(\"b c h w -> b (c h w)\")\n",
    "        self.classifier = nn.Linear(generator_num_features * (img_size // 2**n_layers)**2, 1)\n",
    "\n",
    "    def forward(self, x: t.Tensor):\n",
    "        \"\"\"Forward pass of the discriminator\n",
    "\n",
    "        Args:\n",
    "            x (t.Tensor): input tensor\n",
    "\n",
    "        Returns:\n",
    "            t.Tensor: output tensor\n",
    "        \"\"\"\n",
    "        x = self.layers(x)\n",
    "        x = self.flattened(x)\n",
    "        x = self.classifier(x)\n",
    "        return x\n",
    "\n",
    "\n",
    "class DCGAN(nn.Module):\n",
    "    \"\"\"Implementation of DCGAN\n",
    "\n",
    "    Args:\n",
    "        nn (nn.Module): Parent class\n",
    "    \"\"\"    \n",
    "    netD: Discriminator\n",
    "    netG: Generator\n",
    "    def __init__(self, args):\n",
    "        \"\"\"_summary_\n",
    "        \"\"\"        \n",
    "        super().__init__()\n",
    "        self.netG = Generator(\n",
    "            latent_dim_size=args.latent_dim_size,\n",
    "            img_size=args.img_size,\n",
    "            img_channels=args.img_channels,\n",
    "            generator_num_features=args.generator_num_features,\n",
    "            n_layers=args.n_layers,\n",
    "        )\n",
    "        self.netD = Discriminator(\n",
    "            img_size=args.img_size,\n",
    "            img_channels=args.img_channels,\n",
    "            generator_num_features=args.generator_num_features,\n",
    "            n_layers=args.n_layers,\n",
    "        )\n",
    "        initialize_weights(self.netD)\n",
    "        initialize_weights(self.netG)\n"
   ]
  },
  {
   "cell_type": "code",
   "execution_count": 111,
   "metadata": {},
   "outputs": [
    {
     "ename": "TypeError",
     "evalue": "__init__() got an unexpected keyword argument 'latent_dim_size'",
     "output_type": "error",
     "traceback": [
      "\u001b[0;31m---------------------------------------------------------------------------\u001b[0m",
      "\u001b[0;31mTypeError\u001b[0m                                 Traceback (most recent call last)",
      "Cell \u001b[0;32mIn [111], line 2\u001b[0m\n\u001b[1;32m      1\u001b[0m \u001b[39mfrom\u001b[39;00m \u001b[39mw5d1_solutions\u001b[39;00m \u001b[39mimport\u001b[39;00m celeb_DCGAN\n\u001b[0;32m----> 2\u001b[0m gen_net \u001b[39m=\u001b[39m DCGAN(\u001b[39m*\u001b[39;49m\u001b[39m*\u001b[39;49mceleba_config)\n\u001b[1;32m      3\u001b[0m w5d1_utils\u001b[39m.\u001b[39mprint_param_count(gen_net\u001b[39m.\u001b[39mnetD, celeb_DCGAN\u001b[39m.\u001b[39mnetD)\n",
      "\u001b[0;31mTypeError\u001b[0m: __init__() got an unexpected keyword argument 'latent_dim_size'"
     ]
    }
   ],
   "source": [
    "# from w5d1_solutions import celeb_DCGAN\n",
    "# gen_net = DCGAN(**celeba_config)\n",
    "# w5d1_utils.print_param_count(gen_net.netD, celeb_DCGAN.netD)"
   ]
  },
  {
   "cell_type": "code",
   "execution_count": 117,
   "metadata": {},
   "outputs": [
    {
     "data": {
      "application/vnd.plotly.v1+json": {
       "config": {
        "plotlyServerURL": "https://plot.ly"
       },
       "data": [
        {
         "hovertemplate": "x: %{x}<br>y: %{y}<extra></extra>",
         "name": "0",
         "source": "data:image/png;base64,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",
         "type": "image",
         "xaxis": "x",
         "yaxis": "y"
        }
       ],
       "layout": {
        "coloraxis": {
         "showscale": false
        },
        "margin": {
         "b": 20,
         "l": 20,
         "r": 20,
         "t": 20
        },
        "template": {
         "data": {
          "bar": [
           {
            "error_x": {
             "color": "#2a3f5f"
            },
            "error_y": {
             "color": "#2a3f5f"
            },
            "marker": {
             "line": {
              "color": "#E5ECF6",
              "width": 0.5
             },
             "pattern": {
              "fillmode": "overlay",
              "size": 10,
              "solidity": 0.2
             }
            },
            "type": "bar"
           }
          ],
          "barpolar": [
           {
            "marker": {
             "line": {
              "color": "#E5ECF6",
              "width": 0.5
             },
             "pattern": {
              "fillmode": "overlay",
              "size": 10,
              "solidity": 0.2
             }
            },
            "type": "barpolar"
           }
          ],
          "carpet": [
           {
            "aaxis": {
             "endlinecolor": "#2a3f5f",
             "gridcolor": "white",
             "linecolor": "white",
             "minorgridcolor": "white",
             "startlinecolor": "#2a3f5f"
            },
            "baxis": {
             "endlinecolor": "#2a3f5f",
             "gridcolor": "white",
             "linecolor": "white",
             "minorgridcolor": "white",
             "startlinecolor": "#2a3f5f"
            },
            "type": "carpet"
           }
          ],
          "choropleth": [
           {
            "colorbar": {
             "outlinewidth": 0,
             "ticks": ""
            },
            "type": "choropleth"
           }
          ],
          "contour": [
           {
            "colorbar": {
             "outlinewidth": 0,
             "ticks": ""
            },
            "colorscale": [
             [
              0,
              "#0d0887"
             ],
             [
              0.1111111111111111,
              "#46039f"
             ],
             [
              0.2222222222222222,
              "#7201a8"
             ],
             [
              0.3333333333333333,
              "#9c179e"
             ],
             [
              0.4444444444444444,
              "#bd3786"
             ],
             [
              0.5555555555555556,
              "#d8576b"
             ],
             [
              0.6666666666666666,
              "#ed7953"
             ],
             [
              0.7777777777777778,
              "#fb9f3a"
             ],
             [
              0.8888888888888888,
              "#fdca26"
             ],
             [
              1,
              "#f0f921"
             ]
            ],
            "type": "contour"
           }
          ],
          "contourcarpet": [
           {
            "colorbar": {
             "outlinewidth": 0,
             "ticks": ""
            },
            "type": "contourcarpet"
           }
          ],
          "heatmap": [
           {
            "colorbar": {
             "outlinewidth": 0,
             "ticks": ""
            },
            "colorscale": [
             [
              0,
              "#0d0887"
             ],
             [
              0.1111111111111111,
              "#46039f"
             ],
             [
              0.2222222222222222,
              "#7201a8"
             ],
             [
              0.3333333333333333,
              "#9c179e"
             ],
             [
              0.4444444444444444,
              "#bd3786"
             ],
             [
              0.5555555555555556,
              "#d8576b"
             ],
             [
              0.6666666666666666,
              "#ed7953"
             ],
             [
              0.7777777777777778,
              "#fb9f3a"
             ],
             [
              0.8888888888888888,
              "#fdca26"
             ],
             [
              1,
              "#f0f921"
             ]
            ],
            "type": "heatmap"
           }
          ],
          "heatmapgl": [
           {
            "colorbar": {
             "outlinewidth": 0,
             "ticks": ""
            },
            "colorscale": [
             [
              0,
              "#0d0887"
             ],
             [
              0.1111111111111111,
              "#46039f"
             ],
             [
              0.2222222222222222,
              "#7201a8"
             ],
             [
              0.3333333333333333,
              "#9c179e"
             ],
             [
              0.4444444444444444,
              "#bd3786"
             ],
             [
              0.5555555555555556,
              "#d8576b"
             ],
             [
              0.6666666666666666,
              "#ed7953"
             ],
             [
              0.7777777777777778,
              "#fb9f3a"
             ],
             [
              0.8888888888888888,
              "#fdca26"
             ],
             [
              1,
              "#f0f921"
             ]
            ],
            "type": "heatmapgl"
           }
          ],
          "histogram": [
           {
            "marker": {
             "pattern": {
              "fillmode": "overlay",
              "size": 10,
              "solidity": 0.2
             }
            },
            "type": "histogram"
           }
          ],
          "histogram2d": [
           {
            "colorbar": {
             "outlinewidth": 0,
             "ticks": ""
            },
            "colorscale": [
             [
              0,
              "#0d0887"
             ],
             [
              0.1111111111111111,
              "#46039f"
             ],
             [
              0.2222222222222222,
              "#7201a8"
             ],
             [
              0.3333333333333333,
              "#9c179e"
             ],
             [
              0.4444444444444444,
              "#bd3786"
             ],
             [
              0.5555555555555556,
              "#d8576b"
             ],
             [
              0.6666666666666666,
              "#ed7953"
             ],
             [
              0.7777777777777778,
              "#fb9f3a"
             ],
             [
              0.8888888888888888,
              "#fdca26"
             ],
             [
              1,
              "#f0f921"
             ]
            ],
            "type": "histogram2d"
           }
          ],
          "histogram2dcontour": [
           {
            "colorbar": {
             "outlinewidth": 0,
             "ticks": ""
            },
            "colorscale": [
             [
              0,
              "#0d0887"
             ],
             [
              0.1111111111111111,
              "#46039f"
             ],
             [
              0.2222222222222222,
              "#7201a8"
             ],
             [
              0.3333333333333333,
              "#9c179e"
             ],
             [
              0.4444444444444444,
              "#bd3786"
             ],
             [
              0.5555555555555556,
              "#d8576b"
             ],
             [
              0.6666666666666666,
              "#ed7953"
             ],
             [
              0.7777777777777778,
              "#fb9f3a"
             ],
             [
              0.8888888888888888,
              "#fdca26"
             ],
             [
              1,
              "#f0f921"
             ]
            ],
            "type": "histogram2dcontour"
           }
          ],
          "mesh3d": [
           {
            "colorbar": {
             "outlinewidth": 0,
             "ticks": ""
            },
            "type": "mesh3d"
           }
          ],
          "parcoords": [
           {
            "line": {
             "colorbar": {
              "outlinewidth": 0,
              "ticks": ""
             }
            },
            "type": "parcoords"
           }
          ],
          "pie": [
           {
            "automargin": true,
            "type": "pie"
           }
          ],
          "scatter": [
           {
            "fillpattern": {
             "fillmode": "overlay",
             "size": 10,
             "solidity": 0.2
            },
            "type": "scatter"
           }
          ],
          "scatter3d": [
           {
            "line": {
             "colorbar": {
              "outlinewidth": 0,
              "ticks": ""
             }
            },
            "marker": {
             "colorbar": {
              "outlinewidth": 0,
              "ticks": ""
             }
            },
            "type": "scatter3d"
           }
          ],
          "scattercarpet": [
           {
            "marker": {
             "colorbar": {
              "outlinewidth": 0,
              "ticks": ""
             }
            },
            "type": "scattercarpet"
           }
          ],
          "scattergeo": [
           {
            "marker": {
             "colorbar": {
              "outlinewidth": 0,
              "ticks": ""
             }
            },
            "type": "scattergeo"
           }
          ],
          "scattergl": [
           {
            "marker": {
             "colorbar": {
              "outlinewidth": 0,
              "ticks": ""
             }
            },
            "type": "scattergl"
           }
          ],
          "scattermapbox": [
           {
            "marker": {
             "colorbar": {
              "outlinewidth": 0,
              "ticks": ""
             }
            },
            "type": "scattermapbox"
           }
          ],
          "scatterpolar": [
           {
            "marker": {
             "colorbar": {
              "outlinewidth": 0,
              "ticks": ""
             }
            },
            "type": "scatterpolar"
           }
          ],
          "scatterpolargl": [
           {
            "marker": {
             "colorbar": {
              "outlinewidth": 0,
              "ticks": ""
             }
            },
            "type": "scatterpolargl"
           }
          ],
          "scatterternary": [
           {
            "marker": {
             "colorbar": {
              "outlinewidth": 0,
              "ticks": ""
             }
            },
            "type": "scatterternary"
           }
          ],
          "surface": [
           {
            "colorbar": {
             "outlinewidth": 0,
             "ticks": ""
            },
            "colorscale": [
             [
              0,
              "#0d0887"
             ],
             [
              0.1111111111111111,
              "#46039f"
             ],
             [
              0.2222222222222222,
              "#7201a8"
             ],
             [
              0.3333333333333333,
              "#9c179e"
             ],
             [
              0.4444444444444444,
              "#bd3786"
             ],
             [
              0.5555555555555556,
              "#d8576b"
             ],
             [
              0.6666666666666666,
              "#ed7953"
             ],
             [
              0.7777777777777778,
              "#fb9f3a"
             ],
             [
              0.8888888888888888,
              "#fdca26"
             ],
             [
              1,
              "#f0f921"
             ]
            ],
            "type": "surface"
           }
          ],
          "table": [
           {
            "cells": {
             "fill": {
              "color": "#EBF0F8"
             },
             "line": {
              "color": "white"
             }
            },
            "header": {
             "fill": {
              "color": "#C8D4E3"
             },
             "line": {
              "color": "white"
             }
            },
            "type": "table"
           }
          ]
         },
         "layout": {
          "annotationdefaults": {
           "arrowcolor": "#2a3f5f",
           "arrowhead": 0,
           "arrowwidth": 1
          },
          "autotypenumbers": "strict",
          "coloraxis": {
           "colorbar": {
            "outlinewidth": 0,
            "ticks": ""
           }
          },
          "colorscale": {
           "diverging": [
            [
             0,
             "#8e0152"
            ],
            [
             0.1,
             "#c51b7d"
            ],
            [
             0.2,
             "#de77ae"
            ],
            [
             0.3,
             "#f1b6da"
            ],
            [
             0.4,
             "#fde0ef"
            ],
            [
             0.5,
             "#f7f7f7"
            ],
            [
             0.6,
             "#e6f5d0"
            ],
            [
             0.7,
             "#b8e186"
            ],
            [
             0.8,
             "#7fbc41"
            ],
            [
             0.9,
             "#4d9221"
            ],
            [
             1,
             "#276419"
            ]
           ],
           "sequential": [
            [
             0,
             "#0d0887"
            ],
            [
             0.1111111111111111,
             "#46039f"
            ],
            [
             0.2222222222222222,
             "#7201a8"
            ],
            [
             0.3333333333333333,
             "#9c179e"
            ],
            [
             0.4444444444444444,
             "#bd3786"
            ],
            [
             0.5555555555555556,
             "#d8576b"
            ],
            [
             0.6666666666666666,
             "#ed7953"
            ],
            [
             0.7777777777777778,
             "#fb9f3a"
            ],
            [
             0.8888888888888888,
             "#fdca26"
            ],
            [
             1,
             "#f0f921"
            ]
           ],
           "sequentialminus": [
            [
             0,
             "#0d0887"
            ],
            [
             0.1111111111111111,
             "#46039f"
            ],
            [
             0.2222222222222222,
             "#7201a8"
            ],
            [
             0.3333333333333333,
             "#9c179e"
            ],
            [
             0.4444444444444444,
             "#bd3786"
            ],
            [
             0.5555555555555556,
             "#d8576b"
            ],
            [
             0.6666666666666666,
             "#ed7953"
            ],
            [
             0.7777777777777778,
             "#fb9f3a"
            ],
            [
             0.8888888888888888,
             "#fdca26"
            ],
            [
             1,
             "#f0f921"
            ]
           ]
          },
          "colorway": [
           "#636efa",
           "#EF553B",
           "#00cc96",
           "#ab63fa",
           "#FFA15A",
           "#19d3f3",
           "#FF6692",
           "#B6E880",
           "#FF97FF",
           "#FECB52"
          ],
          "font": {
           "color": "#2a3f5f"
          },
          "geo": {
           "bgcolor": "white",
           "lakecolor": "white",
           "landcolor": "#E5ECF6",
           "showlakes": true,
           "showland": true,
           "subunitcolor": "white"
          },
          "hoverlabel": {
           "align": "left"
          },
          "hovermode": "closest",
          "mapbox": {
           "style": "light"
          },
          "paper_bgcolor": "white",
          "plot_bgcolor": "#E5ECF6",
          "polar": {
           "angularaxis": {
            "gridcolor": "white",
            "linecolor": "white",
            "ticks": ""
           },
           "bgcolor": "#E5ECF6",
           "radialaxis": {
            "gridcolor": "white",
            "linecolor": "white",
            "ticks": ""
           }
          },
          "scene": {
           "xaxis": {
            "backgroundcolor": "#E5ECF6",
            "gridcolor": "white",
            "gridwidth": 2,
            "linecolor": "white",
            "showbackground": true,
            "ticks": "",
            "zerolinecolor": "white"
           },
           "yaxis": {
            "backgroundcolor": "#E5ECF6",
            "gridcolor": "white",
            "gridwidth": 2,
            "linecolor": "white",
            "showbackground": true,
            "ticks": "",
            "zerolinecolor": "white"
           },
           "zaxis": {
            "backgroundcolor": "#E5ECF6",
            "gridcolor": "white",
            "gridwidth": 2,
            "linecolor": "white",
            "showbackground": true,
            "ticks": "",
            "zerolinecolor": "white"
           }
          },
          "shapedefaults": {
           "line": {
            "color": "#2a3f5f"
           }
          },
          "ternary": {
           "aaxis": {
            "gridcolor": "white",
            "linecolor": "white",
            "ticks": ""
           },
           "baxis": {
            "gridcolor": "white",
            "linecolor": "white",
            "ticks": ""
           },
           "bgcolor": "#E5ECF6",
           "caxis": {
            "gridcolor": "white",
            "linecolor": "white",
            "ticks": ""
           }
          },
          "title": {
           "x": 0.05
          },
          "xaxis": {
           "automargin": true,
           "gridcolor": "white",
           "linecolor": "white",
           "ticks": "",
           "title": {
            "standoff": 15
           },
           "zerolinecolor": "white",
           "zerolinewidth": 2
          },
          "yaxis": {
           "automargin": true,
           "gridcolor": "white",
           "linecolor": "white",
           "ticks": "",
           "title": {
            "standoff": 15
           },
           "zerolinecolor": "white",
           "zerolinewidth": 2
          }
         }
        },
        "xaxis": {
         "anchor": "y",
         "domain": [
          0,
          1
         ],
         "showticklabels": false
        },
        "yaxis": {
         "anchor": "x",
         "domain": [
          0,
          1
         ],
         "showticklabels": false
        }
       }
      }
     },
     "metadata": {},
     "output_type": "display_data"
    }
   ],
   "source": [
    "from torchvision import transforms, datasets\n",
    "image_size = 64\n",
    "batch_size = 128\n",
    "transform = transforms.Compose([\n",
    "    transforms.Resize(image_size),\n",
    "    transforms.ToTensor(),\n",
    "    transforms.Normalize((0.5, 0.5, 0.5), (0.5, 0.5, 0.5)),\n",
    "])\n",
    "\n",
    "trainset = ImageFolder(\n",
    "    root=\"/home/curttigges/projects/arena-v1-ldn-ct/w5_chapter5_modelling_objectives/data\",\n",
    "    transform=transform\n",
    ")\n",
    "\n",
    "w5d1_utils.show_images(trainset, rows=3, cols=5)"
   ]
  },
  {
   "cell_type": "code",
   "execution_count": null,
   "metadata": {},
   "outputs": [],
   "source": [
    "@dataclass\n",
    "class DCGANargs():\n",
    "    latent_dim_size: int\n",
    "    img_size: int\n",
    "    img_channels: int\n",
    "    generator_num_features: int\n",
    "    n_layers: int\n",
    "    trainset: datasets.ImageFolder\n",
    "    batch_size: int = 8\n",
    "    epochs: int = 1\n",
    "    lr: float = 0.0002\n",
    "    betas: Tuple[float] = (0.5, 0.999)\n",
    "    track: bool = True\n",
    "    cuda: bool = False\n",
    "    seconds_between_image_logs: int = 40"
   ]
  },
  {
   "cell_type": "code",
   "execution_count": 125,
   "metadata": {},
   "outputs": [],
   "source": [
    "import time\n",
    "from typing import Tuple\n",
    "\n",
    "\n",
    "@dataclass\n",
    "class DCGANargs():\n",
    "    latent_dim_size: int\n",
    "    img_size: int\n",
    "    img_channels: int\n",
    "    generator_num_features: int\n",
    "    n_layers: int\n",
    "    trainset: datasets.ImageFolder\n",
    "    batch_size: int = 8\n",
    "    epochs: int = 1\n",
    "    lr: float = 0.0002\n",
    "    betas: Tuple[float] = (0.5, 0.999)\n",
    "    track: bool = True\n",
    "    cuda: bool = False\n",
    "    seconds_between_image_logs: int = 40\n",
    "\n",
    "def train_DCGAN(args: DCGANargs) -> DCGAN:\n",
    "\n",
    "    last_log_time = time.time()\n",
    "    n_examples_seen = 0\n",
    "\n",
    "    device = t.device(\"cuda\" if args.cuda else \"cpu\")\n",
    "\n",
    "    trainloader = DataLoader(trainset, batch_size=args.batch_size, shuffle=True) # num_workers=2\n",
    "\n",
    "    model = DCGAN(args).to(device).train()\n",
    "\n",
    "    if args.track:\n",
    "        wandb.init()\n",
    "        wandb.watch(model)\n",
    "    \n",
    "    for epoch in range(args.epochs):\n",
    "        \n",
    "        progress_bar = tqdm(trainloader)\n",
    "\n",
    "        optG = t.optim.Adam(model.netG.parameters(), lr=args.lr, betas=args.betas)\n",
    "        optD = t.optim.Adam(model.netD.parameters(), lr=args.lr, betas=args.betas)\n",
    "\n",
    "        for img_real, label in progress_bar: # remember that label is not used\n",
    "\n",
    "            img_real = img_real.to(device)\n",
    "            noise = t.randn(args.batch_size, model.netG.latent_dim_size).to(device)\n",
    "\n",
    "            # ====== DISCRIMINIATOR TRAINING LOOP: maximise log(D(x)) + log(1-D(G(z))) ======\n",
    "\n",
    "            # Zero gradients\n",
    "            optD.zero_grad()\n",
    "            # Calculate the two different components of the objective function\n",
    "            D_x = model.netD(img_real)\n",
    "            img_fake = model.netG(noise)\n",
    "            D_G_z = model.netD(img_fake.detach())\n",
    "            # Add them to get the objective function\n",
    "            lossD = - (t.log(D_x).mean() + t.log(1 - D_G_z).mean())\n",
    "            # Gradient descent step\n",
    "            lossD.backward()\n",
    "            optD.step()\n",
    "\n",
    "            # ====== GENERATOR TRAINING LOOP: maximise log(D(G(z))) ======\n",
    "            \n",
    "            # Zero gradients\n",
    "            optG.zero_grad()\n",
    "            # Calculate the objective function\n",
    "            D_G_z = model.netD(img_fake)\n",
    "            lossG = - (t.log(D_G_z).mean())\n",
    "            # Gradient descent step\n",
    "            lossG.backward()\n",
    "            optG.step()\n",
    "\n",
    "            # Update progress bar\n",
    "            progress_bar.set_description(f\"{epoch=}, lossD={lossD.item():.4f}, lossG={lossG.item():.4f}\")\n",
    "            n_examples_seen += img_real.shape[0]\n",
    "\n",
    "            # Log output, if required\n",
    "            if args.track:\n",
    "                wandb.log(dict(lossD=lossD, lossG=lossG), step=n_examples_seen)\n",
    "                if time.time() - last_log_time > args.seconds_between_image_logs:\n",
    "                    last_log_time = time.time()\n",
    "                    arrays = get_generator_output(model.netG) # shape (8, 64, 64, 3)\n",
    "                    images = [wandb.Image(arr) for arr in arrays]\n",
    "                    wandb.log({\"images\": images}, step=n_examples_seen)\n",
    "\n",
    "    name = model.__class__.__name__\n",
    "    dirname = str(wandb.run.dir) if args.track else \"models\"\n",
    "    filename = f\"{dirname}/{name}.pt\"\n",
    "    if not os.path.exists(dirname):\n",
    "        os.makedirs(dirname)\n",
    "    if args.track:\n",
    "        print(f\"Saving {name!r} to: {filename!r}\")\n",
    "        wandb.save(filename)\n",
    "        wandb.finish()\n",
    "                \n",
    "    return model\n",
    "\n",
    "@t.inference_mode()\n",
    "def get_generator_output(netG, n_examples=8, rand_seed=0):\n",
    "    netG.eval()\n",
    "    device = next(netG.parameters()).device\n",
    "    t.manual_seed(rand_seed)\n",
    "    noise = t.randn(n_examples, netG.latent_dim_size).to(device)\n",
    "    arrays = rearrange(netG(noise), \"b c h w -> b h w c\").detach().cpu().numpy()\n",
    "    netG.train()\n",
    "    return arrays"
   ]
  },
  {
   "cell_type": "code",
   "execution_count": 126,
   "metadata": {},
   "outputs": [
    {
     "name": "stdout",
     "output_type": "stream",
     "text": [
      "img_size=64 img_channels=3 generator_num_features=512 n_layers=4\n",
      "==========================================================================================\n",
      "Layer (type:depth-idx)                   Output Shape              Param #\n",
      "==========================================================================================\n",
      "Generator                                [3, 3, 64, 64]            --\n",
      "├─Sequential: 1-1                        [3, 512, 4, 4]            --\n",
      "│    └─Linear: 2-1                       [3, 8192]                 827,392\n",
      "│    └─Rearrange: 2-2                    [3, 512, 4, 4]            --\n",
      "│    └─BatchNorm2d: 2-3                  [3, 512, 4, 4]            1,024\n",
      "│    └─ReLU: 2-4                         [3, 512, 4, 4]            --\n",
      "├─Sequential: 1-2                        [3, 3, 64, 64]            --\n",
      "│    └─ConvTranspose2d: 2-5              [3, 256, 8, 8]            2,097,152\n",
      "│    └─BatchNorm2d: 2-6                  [3, 256, 8, 8]            512\n",
      "│    └─ReLU: 2-7                         [3, 256, 8, 8]            --\n",
      "│    └─ConvTranspose2d: 2-8              [3, 128, 16, 16]          524,288\n",
      "│    └─BatchNorm2d: 2-9                  [3, 128, 16, 16]          256\n",
      "│    └─ReLU: 2-10                        [3, 128, 16, 16]          --\n",
      "│    └─ConvTranspose2d: 2-11             [3, 64, 32, 32]           131,072\n",
      "│    └─BatchNorm2d: 2-12                 [3, 64, 32, 32]           128\n",
      "│    └─ReLU: 2-13                        [3, 64, 32, 32]           --\n",
      "│    └─ConvTranspose2d: 2-14             [3, 3, 64, 64]            3,072\n",
      "│    └─Tanh: 2-15                        [3, 3, 64, 64]            --\n",
      "==========================================================================================\n",
      "Total params: 3,584,896\n",
      "Trainable params: 3,584,896\n",
      "Non-trainable params: 0\n",
      "Total mult-adds (G): 1.25\n",
      "==========================================================================================\n",
      "Input size (MB): 0.00\n",
      "Forward/backward pass size (MB): 6.19\n",
      "Params size (MB): 14.34\n",
      "Estimated Total Size (MB): 20.53\n",
      "========================================================================================== ==========================================================================================\n",
      "Layer (type:depth-idx)                   Output Shape              Param #\n",
      "==========================================================================================\n",
      "Discriminator                            [3, 1]                    --\n",
      "├─Sequential: 1-1                        [3, 512, 4, 4]            --\n",
      "│    └─Conv2d: 2-1                       [3, 64, 32, 32]           3,072\n",
      "│    └─LeakyReLU: 2-2                    [3, 64, 32, 32]           --\n",
      "│    └─Conv2d: 2-3                       [3, 128, 16, 16]          131,072\n",
      "│    └─BatchNorm2d: 2-4                  [3, 128, 16, 16]          256\n",
      "│    └─LeakyReLU: 2-5                    [3, 128, 16, 16]          --\n",
      "│    └─Conv2d: 2-6                       [3, 256, 8, 8]            524,288\n",
      "│    └─BatchNorm2d: 2-7                  [3, 256, 8, 8]            512\n",
      "│    └─LeakyReLU: 2-8                    [3, 256, 8, 8]            --\n",
      "│    └─Conv2d: 2-9                       [3, 512, 4, 4]            2,097,152\n",
      "│    └─BatchNorm2d: 2-10                 [3, 512, 4, 4]            1,024\n",
      "│    └─LeakyReLU: 2-11                   [3, 512, 4, 4]            --\n",
      "├─Rearrange: 1-2                         [3, 8192]                 --\n",
      "├─Linear: 1-3                            [3, 1]                    8,193\n",
      "==========================================================================================\n",
      "Total params: 2,765,569\n",
      "Trainable params: 2,765,569\n",
      "Non-trainable params: 0\n",
      "Total mult-adds (M): 311.46\n",
      "==========================================================================================\n",
      "Input size (MB): 0.15\n",
      "Forward/backward pass size (MB): 4.33\n",
      "Params size (MB): 11.06\n",
      "Estimated Total Size (MB): 15.54\n",
      "==========================================================================================\n",
      "img_size=64 img_channels=3 generator_num_features=512 n_layers=4\n"
     ]
    },
    {
     "name": "stderr",
     "output_type": "stream",
     "text": [
      "Failed to detect the name of this notebook, you can set it manually with the WANDB_NOTEBOOK_NAME environment variable to enable code saving.\n",
      "\u001b[34m\u001b[1mwandb\u001b[0m: Currently logged in as: \u001b[33mcurt-tigges\u001b[0m (\u001b[33marena-ldn\u001b[0m). Use \u001b[1m`wandb login --relogin`\u001b[0m to force relogin\n"
     ]
    },
    {
     "data": {
      "text/html": [
       "Tracking run with wandb version 0.13.5"
      ],
      "text/plain": [
       "<IPython.core.display.HTML object>"
      ]
     },
     "metadata": {},
     "output_type": "display_data"
    },
    {
     "data": {
      "text/html": [
       "Run data is saved locally in <code>/home/curttigges/projects/arena-v1-ldn-ct/wandb/run-20221205_203648-2u51nerp</code>"
      ],
      "text/plain": [
       "<IPython.core.display.HTML object>"
      ]
     },
     "metadata": {},
     "output_type": "display_data"
    },
    {
     "data": {
      "text/html": [
       "Syncing run <strong><a href=\"https://wandb.ai/arena-ldn/arena-v1-ldn-ct/runs/2u51nerp\" target=\"_blank\">resilient-cosmos-1</a></strong> to <a href=\"https://wandb.ai/arena-ldn/arena-v1-ldn-ct\" target=\"_blank\">Weights & Biases</a> (<a href=\"https://wandb.me/run\" target=\"_blank\">docs</a>)<br/>"
      ],
      "text/plain": [
       "<IPython.core.display.HTML object>"
      ]
     },
     "metadata": {},
     "output_type": "display_data"
    },
    {
     "data": {
      "application/vnd.jupyter.widget-view+json": {
       "model_id": "161d96f5bb9f4c418be1ff69c24c7235",
       "version_major": 2,
       "version_minor": 0
      },
      "text/plain": [
       "  0%|          | 0/25325 [00:00<?, ?it/s]"
      ]
     },
     "metadata": {},
     "output_type": "display_data"
    },
    {
     "ename": "KeyboardInterrupt",
     "evalue": "",
     "output_type": "error",
     "traceback": [
      "\u001b[0;31m---------------------------------------------------------------------------\u001b[0m",
      "\u001b[0;31mKeyboardInterrupt\u001b[0m                         Traceback (most recent call last)",
      "Cell \u001b[0;32mIn [126], line 27\u001b[0m\n\u001b[1;32m     22\u001b[0m statsD \u001b[39m=\u001b[39m torchinfo\u001b[39m.\u001b[39msummary(model\u001b[39m.\u001b[39mnetD, input_data\u001b[39m=\u001b[39mmodel\u001b[39m.\u001b[39mnetG(x))\n\u001b[1;32m     23\u001b[0m \u001b[39mprint\u001b[39m(statsG, statsD)\n\u001b[0;32m---> 27\u001b[0m model \u001b[39m=\u001b[39m train_DCGAN(args)\n",
      "Cell \u001b[0;32mIn [125], line 70\u001b[0m, in \u001b[0;36mtrain_DCGAN\u001b[0;34m(args)\u001b[0m\n\u001b[1;32m     68\u001b[0m lossG \u001b[39m=\u001b[39m \u001b[39m-\u001b[39m (t\u001b[39m.\u001b[39mlog(D_G_z)\u001b[39m.\u001b[39mmean())\n\u001b[1;32m     69\u001b[0m \u001b[39m# Gradient descent step\u001b[39;00m\n\u001b[0;32m---> 70\u001b[0m lossG\u001b[39m.\u001b[39;49mbackward()\n\u001b[1;32m     71\u001b[0m optG\u001b[39m.\u001b[39mstep()\n\u001b[1;32m     73\u001b[0m \u001b[39m# Update progress bar\u001b[39;00m\n",
      "File \u001b[0;32m~/miniconda3/envs/arena/lib/python3.9/site-packages/torch/_tensor.py:487\u001b[0m, in \u001b[0;36mTensor.backward\u001b[0;34m(self, gradient, retain_graph, create_graph, inputs)\u001b[0m\n\u001b[1;32m    477\u001b[0m \u001b[39mif\u001b[39;00m has_torch_function_unary(\u001b[39mself\u001b[39m):\n\u001b[1;32m    478\u001b[0m     \u001b[39mreturn\u001b[39;00m handle_torch_function(\n\u001b[1;32m    479\u001b[0m         Tensor\u001b[39m.\u001b[39mbackward,\n\u001b[1;32m    480\u001b[0m         (\u001b[39mself\u001b[39m,),\n\u001b[0;32m   (...)\u001b[0m\n\u001b[1;32m    485\u001b[0m         inputs\u001b[39m=\u001b[39minputs,\n\u001b[1;32m    486\u001b[0m     )\n\u001b[0;32m--> 487\u001b[0m torch\u001b[39m.\u001b[39;49mautograd\u001b[39m.\u001b[39;49mbackward(\n\u001b[1;32m    488\u001b[0m     \u001b[39mself\u001b[39;49m, gradient, retain_graph, create_graph, inputs\u001b[39m=\u001b[39;49minputs\n\u001b[1;32m    489\u001b[0m )\n",
      "File \u001b[0;32m~/miniconda3/envs/arena/lib/python3.9/site-packages/torch/autograd/__init__.py:197\u001b[0m, in \u001b[0;36mbackward\u001b[0;34m(tensors, grad_tensors, retain_graph, create_graph, grad_variables, inputs)\u001b[0m\n\u001b[1;32m    192\u001b[0m     retain_graph \u001b[39m=\u001b[39m create_graph\n\u001b[1;32m    194\u001b[0m \u001b[39m# The reason we repeat same the comment below is that\u001b[39;00m\n\u001b[1;32m    195\u001b[0m \u001b[39m# some Python versions print out the first line of a multi-line function\u001b[39;00m\n\u001b[1;32m    196\u001b[0m \u001b[39m# calls in the traceback and some print out the last line\u001b[39;00m\n\u001b[0;32m--> 197\u001b[0m Variable\u001b[39m.\u001b[39;49m_execution_engine\u001b[39m.\u001b[39;49mrun_backward(  \u001b[39m# Calls into the C++ engine to run the backward pass\u001b[39;49;00m\n\u001b[1;32m    198\u001b[0m     tensors, grad_tensors_, retain_graph, create_graph, inputs,\n\u001b[1;32m    199\u001b[0m     allow_unreachable\u001b[39m=\u001b[39;49m\u001b[39mTrue\u001b[39;49;00m, accumulate_grad\u001b[39m=\u001b[39;49m\u001b[39mTrue\u001b[39;49;00m)\n",
      "File \u001b[0;32m~/miniconda3/envs/arena/lib/python3.9/site-packages/wandb/wandb_torch.py:282\u001b[0m, in \u001b[0;36mTorchHistory._hook_variable_gradient_stats.<locals>.<lambda>\u001b[0;34m(grad)\u001b[0m\n\u001b[1;32m    279\u001b[0m         \u001b[39mreturn\u001b[39;00m\n\u001b[1;32m    280\u001b[0m     \u001b[39mself\u001b[39m\u001b[39m.\u001b[39mlog_tensor_stats(grad\u001b[39m.\u001b[39mdata, name)\n\u001b[0;32m--> 282\u001b[0m handle \u001b[39m=\u001b[39m var\u001b[39m.\u001b[39mregister_hook(\u001b[39mlambda\u001b[39;00m grad: _callback(grad, log_track))\n\u001b[1;32m    283\u001b[0m \u001b[39mself\u001b[39m\u001b[39m.\u001b[39m_hook_handles[name] \u001b[39m=\u001b[39m handle\n\u001b[1;32m    284\u001b[0m \u001b[39mreturn\u001b[39;00m handle\n",
      "\u001b[0;31mKeyboardInterrupt\u001b[0m: "
     ]
    }
   ],
   "source": [
    "celeba_config = dict(\n",
    "    latent_dim_size = 100,\n",
    "    img_size = 64,\n",
    "    img_channels = 3,\n",
    "    generator_num_features = 1024,\n",
    "    n_layers = 4,\n",
    ")\n",
    "celeba_mini_config = dict(\n",
    "    latent_dim_size = 100,\n",
    "    img_size = 64,\n",
    "    img_channels = 3,\n",
    "    generator_num_features = 512,\n",
    "    n_layers = 4,\n",
    ")\n",
    "\n",
    "device = t.device(\"cuda\" if t.cuda.is_available() else \"cpu\")\n",
    "args = DCGANargs(**celeba_mini_config, trainset=trainset)\n",
    "model = DCGAN(args).to(device).train()\n",
    "#print_param_count(model)\n",
    "x = t.randn(3, 100).to(device)\n",
    "statsG = torchinfo.summary(model.netG, input_data=x)\n",
    "statsD = torchinfo.summary(model.netD, input_data=model.netG(x))\n",
    "print(statsG, statsD)\n",
    "\n",
    "\n",
    "\n",
    "model = train_DCGAN(args)"
   ]
  },
  {
   "cell_type": "code",
   "execution_count": 106,
   "metadata": {},
   "outputs": [],
   "source": []
  },
  {
   "cell_type": "code",
   "execution_count": 116,
   "metadata": {},
   "outputs": [
    {
     "name": "stdout",
     "output_type": "stream",
     "text": [
      "DCGANargs(latent_dim_size=100, img_size=64, img_channels=3, generator_num_features=512, n_layers=4, trainset=Dataset ImageFolder\n",
      "    Number of datapoints: 202599\n",
      "    Root location: /home/curttigges/projects/arena-v1-ldn-ct/w5_chapter5_modelling_objectives/data\n",
      "    StandardTransform\n",
      "Transform: Compose(\n",
      "               Resize(size=64, interpolation=bilinear, max_size=None, antialias=None)\n",
      "               ToTensor()\n",
      "               Normalize(mean=(0.5, 0.5, 0.5), std=(0.5, 0.5, 0.5))\n",
      "           ), batch_size=8, epochs=1, lr=0.0002, betas=(0.5, 0.999), track=True, cuda=True, seconds_between_image_logs=40)\n",
      "img_size=64 img_channels=3 generator_num_features=512 n_layers=4\n"
     ]
    }
   ],
   "source": []
  },
  {
   "cell_type": "code",
   "execution_count": null,
   "metadata": {},
   "outputs": [],
   "source": []
  }
 ],
 "metadata": {
  "kernelspec": {
   "display_name": "Python 3.9.13 ('arena')",
   "language": "python",
   "name": "python3"
  },
  "language_info": {
   "codemirror_mode": {
    "name": "ipython",
    "version": 3
   },
   "file_extension": ".py",
   "mimetype": "text/x-python",
   "name": "python",
   "nbconvert_exporter": "python",
   "pygments_lexer": "ipython3",
   "version": "3.9.13"
  },
  "orig_nbformat": 4,
  "vscode": {
   "interpreter": {
    "hash": "e28c680d33f95a364b6d7e112cefa96ea26c04ddac857c82a143b1aa5b3dfb2e"
   }
  }
 },
 "nbformat": 4,
 "nbformat_minor": 2
}
