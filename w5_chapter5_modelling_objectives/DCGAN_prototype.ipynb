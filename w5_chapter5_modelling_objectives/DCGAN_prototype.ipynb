{
 "cells": [
  {
   "cell_type": "code",
   "execution_count": 1,
   "metadata": {},
   "outputs": [],
   "source": [
    "import torch as t\n",
    "from typing import Union\n",
    "from torch import nn\n",
    "import torch.nn.functional as F\n",
    "import torchinfo\n",
    "import plotly.express as px\n",
    "import plotly.graph_objects as go\n",
    "from einops import rearrange, reduce, repeat\n",
    "from einops.layers.torch import Rearrange\n",
    "from fancy_einsum import einsum\n",
    "import os\n",
    "from tqdm.auto import tqdm\n",
    "from torchvision import transforms, datasets\n",
    "from torchvision.datasets import ImageFolder\n",
    "from torch.utils.data import Dataset, DataLoader, TensorDataset\n",
    "import wandb\n",
    "import w5d1_utils\n",
    "import w5d1_tests\n",
    "from dataclasses import dataclass\n",
    "import pytorch_lightning as pl\n",
    "\n",
    "#import sys \n",
    "#sys.path.append('../common_modules')\n"
   ]
  },
  {
   "cell_type": "code",
   "execution_count": 2,
   "metadata": {},
   "outputs": [],
   "source": [
    "def build_convtranspose_layers(\n",
    "    n_layers,\n",
    "    in_channels,\n",
    "    out_channels,\n",
    "    kernel_size=4,\n",
    "    stride=2,\n",
    "    padding=1,\n",
    "    batch_norm=True,\n",
    "    activation=nn.ReLU(),\n",
    "):\n",
    "    \"\"\"Builds a sequence of convolutional transpose layers with optional batch \n",
    "        normalization and activation layers.\n",
    "\n",
    "    Args:\n",
    "        n_layers (int): Number of convolutional transpose layers to build.\n",
    "        in_channels (int): Number of input channels.\n",
    "        out_channels (int): Number of output channels.\n",
    "        kernel_size (int): Size of the convolutional kernel.\n",
    "        stride (int): Stride of the convolution.\n",
    "        padding (int): Padding of the convolution.\n",
    "        output_padding (int): Output padding of the convolution.\n",
    "        batch_norm (bool): Whether to use batch normalization layers.\n",
    "        activation (nn.Module): Activation layer to use.\n",
    "\n",
    "    Returns:\n",
    "        nn.Sequential: A sequence of convolutional transpose layers.\n",
    "    \"\"\"\n",
    "    layers = []\n",
    "    in_channels = [in_channels // (2**i) for i in range(n_layers)]\n",
    "    out_channels = in_channels[1:] + [3]\n",
    "    for i in range(n_layers - 1):\n",
    "        layers.append(\n",
    "            nn.ConvTranspose2d(\n",
    "                in_channels=in_channels[i],\n",
    "                out_channels=out_channels[i],\n",
    "                kernel_size=kernel_size,\n",
    "                stride=stride,\n",
    "                padding=padding,\n",
    "                bias=False,\n",
    "            )\n",
    "        )\n",
    "        if batch_norm:\n",
    "            layers.append(nn.BatchNorm2d(out_channels[i]))\n",
    "        if activation is not None:\n",
    "            layers.append(activation)\n",
    "\n",
    "    # Last layer\n",
    "    layers.append(\n",
    "        nn.ConvTranspose2d(\n",
    "            in_channels=in_channels[-1],\n",
    "            out_channels=out_channels[-1],\n",
    "            kernel_size=kernel_size,\n",
    "            stride=stride,\n",
    "            padding=padding,\n",
    "            bias=False,\n",
    "        )\n",
    "    )\n",
    "    layers.append(nn.Tanh())\n",
    "\n",
    "    return nn.Sequential(*layers)\n"
   ]
  },
  {
   "cell_type": "code",
   "execution_count": 3,
   "metadata": {},
   "outputs": [],
   "source": [
    "def build_conv_layers(\n",
    "    n_layers,\n",
    "    img_channels,\n",
    "    generator_channels,\n",
    "    kernel_size=4,\n",
    "    stride=2,\n",
    "    padding=1,\n",
    "    batch_norm=True,\n",
    "    activation=nn.LeakyReLU(0.2),\n",
    "):\n",
    "    \"\"\"Builds a sequence of convolutional layers with optional batch \n",
    "        normalization and activation layers.\n",
    "\n",
    "    Args:\n",
    "        n_layers (int): Number of transpose layers to build.\n",
    "        kernel_size (int): Size of the convolutional kernel.\n",
    "        stride (int): Stride of the convolution.\n",
    "        padding (int): Padding of the convolution.\n",
    "        output_padding (int): Output padding of the convolution.\n",
    "        batch_norm (bool): Whether to use batch normalization layers.\n",
    "        activation (nn.Module): Activation layer to use.\n",
    "\n",
    "    Returns:\n",
    "        nn.Sequential: A sequence of convolutional transpose layers.\n",
    "    \"\"\"\n",
    "    layers = []\n",
    "\n",
    "    out_channels = [generator_channels // (2**i) for i in range(n_layers)][::-1]\n",
    "    in_channels = ([img_channels] + out_channels[:-1])\n",
    "    # First layer\n",
    "    layers.append(\n",
    "        nn.Conv2d(\n",
    "            in_channels=in_channels[0],\n",
    "            out_channels=out_channels[0],\n",
    "            kernel_size=kernel_size,\n",
    "            stride=stride,\n",
    "            padding=padding,\n",
    "            bias=False,\n",
    "        )\n",
    "    )\n",
    "    layers.append(activation)\n",
    "    \n",
    "    for i in range(1, n_layers):\n",
    "        layers.append(\n",
    "            nn.Conv2d(\n",
    "                in_channels=in_channels[i],\n",
    "                out_channels=out_channels[i],\n",
    "                kernel_size=kernel_size,\n",
    "                stride=stride,\n",
    "                padding=padding,\n",
    "                bias=False\n",
    "            )\n",
    "        )\n",
    "        if batch_norm:\n",
    "            layers.append(nn.BatchNorm2d(out_channels[i]))\n",
    "        if activation is not None:\n",
    "            layers.append(activation)\n",
    "\n",
    "    return nn.Sequential(*layers)\n"
   ]
  },
  {
   "cell_type": "code",
   "execution_count": 4,
   "metadata": {},
   "outputs": [],
   "source": [
    "def initialize_weights(model) -> None:\n",
    "    \"\"\"Initializes the weights of the model.\n",
    "\n",
    "    Args:\n",
    "        model (nn.Module): Model to initialize.\n",
    "    \"\"\"\n",
    "    for m in model.modules():\n",
    "        if isinstance(m, nn.ConvTranspose2d) or isinstance(m, nn.Conv2d):\n",
    "            nn.init.normal_(m.weight, 0.0, 0.02)\n",
    "        elif isinstance(m, nn.BatchNorm2d):\n",
    "            nn.init.normal_(m.weight, 1.0, 0.02)\n",
    "            nn.init.constant_(m.bias, 0)"
   ]
  },
  {
   "cell_type": "code",
   "execution_count": 5,
   "metadata": {},
   "outputs": [],
   "source": [
    "class Generator(nn.Module):\n",
    "    def __init__(\n",
    "        self,\n",
    "        latent_dim_size: int,\n",
    "        img_size: int,\n",
    "        img_channels: int,\n",
    "        generator_num_features: int,\n",
    "        n_layers: int,\n",
    "        scale_factor: int = 2,\n",
    "    ):\n",
    "        \"\"\"Implementation of DCGAN generator\n",
    "\n",
    "        Args:\n",
    "            self (Generator): Module\n",
    "            latent_dim_size (int): size of the random vector we use for generating output\n",
    "            img_size (int): size of the images we're generating\n",
    "            img_channels (int): indicates RGB images\n",
    "            generator_num_features (int): number of channels after first projection and reshaping\n",
    "            n_layers (int): number of CONV_n layers\n",
    "            scale_factor (int): scale factor for upsampling\n",
    "        \"\"\"\n",
    "        super().__init__()\n",
    "        self.latent_dim_size = latent_dim_size\n",
    "        self.img_size = img_size\n",
    "        self.img_channels = img_channels\n",
    "        self.generator_num_features = generator_num_features\n",
    "        self.n_layers = n_layers\n",
    "        print(f\"{img_size=} {img_channels=} {generator_num_features=} {n_layers=}\")\n",
    "        self.initial = nn.Sequential(\n",
    "            nn.Linear(\n",
    "                latent_dim_size,\n",
    "                generator_num_features * (img_size // scale_factor**self.n_layers) ** 2,\n",
    "                bias=False,\n",
    "            ),\n",
    "            Rearrange(\n",
    "                \"b (c h w) -> b c h w\", h=img_size // scale_factor**self.n_layers,\n",
    "                w=img_size // scale_factor**self.n_layers\n",
    "            ),\n",
    "            nn.BatchNorm2d(generator_num_features),\n",
    "            nn.ReLU(),\n",
    "        )\n",
    "\n",
    "        self.layers = build_convtranspose_layers(\n",
    "            n_layers,\n",
    "            in_channels=generator_num_features,\n",
    "            out_channels=generator_num_features // 2,\n",
    "            kernel_size=4,\n",
    "            stride=2,\n",
    "            padding=1,\n",
    "            batch_norm=True,\n",
    "            activation=nn.ReLU(),\n",
    "        )\n",
    "\n",
    "    def forward(self, x: t.Tensor):\n",
    "        \"\"\"Forward pass of the generator\n",
    "\n",
    "        Args:\n",
    "            self (Generator): Module\n",
    "            x (t.Tensor): input tensor\n",
    "\n",
    "        Returns:\n",
    "            t.Tensor: generated image\n",
    "        \"\"\"\n",
    "        x = self.initial(x)\n",
    "        x = self.layers(x)\n",
    "        return x\n",
    "\n",
    "\n",
    "class Discriminator(nn.Module):\n",
    "    def __init__(\n",
    "        self,\n",
    "        img_size: int,\n",
    "        img_channels: int,\n",
    "        generator_num_features: int,\n",
    "        n_layers: int,\n",
    "    ):\n",
    "        \"\"\"Implementation of DCGAN discriminator\n",
    "\n",
    "        Args:\n",
    "            img_size (int): _description_\n",
    "            img_channels (int): _description_\n",
    "            generator_num_features (int): _description_\n",
    "            n_layers (int): _description_\n",
    "        \"\"\"        \n",
    "        super().__init__()\n",
    "        self.img_size = img_size\n",
    "        self.img_channels = img_channels\n",
    "        self.generator_num_features = generator_num_features\n",
    "        self.n_layers = n_layers\n",
    "\n",
    "        self.layers = build_conv_layers(n_layers, img_channels, generator_num_features)\n",
    "        self.classifier = nn.Sequential(\n",
    "            Rearrange(\"b c h w -> b (c h w)\"),\n",
    "            nn.Linear(generator_num_features * (img_size // 2**n_layers)**2, 1, bias=False),\n",
    "            nn.Sigmoid(),\n",
    "        )\n",
    "        \n",
    "\n",
    "    def forward(self, x: t.Tensor):\n",
    "        \"\"\"Forward pass of the discriminator\n",
    "\n",
    "        Args:\n",
    "            x (t.Tensor): input tensor\n",
    "\n",
    "        Returns:\n",
    "            t.Tensor: output tensor\n",
    "        \"\"\"\n",
    "        x = self.layers(x)\n",
    "        x = self.classifier(x)\n",
    "        return x\n",
    "\n",
    "\n",
    "class DCGAN(nn.Module):\n",
    "    \"\"\"Implementation of DCGAN\n",
    "\n",
    "    Args:\n",
    "        nn (nn.Module): Parent class\n",
    "    \"\"\"    \n",
    "    netD: Discriminator\n",
    "    netG: Generator\n",
    "    def __init__(self, args):\n",
    "        \"\"\"_summary_\n",
    "        \"\"\"        \n",
    "        super().__init__()\n",
    "        self.netG = Generator(\n",
    "            latent_dim_size=args.latent_dim_size,\n",
    "            img_size=args.img_size,\n",
    "            img_channels=args.img_channels,\n",
    "            generator_num_features=args.generator_num_features,\n",
    "            n_layers=args.n_layers,\n",
    "        )\n",
    "        self.netD = Discriminator(\n",
    "            img_size=args.img_size,\n",
    "            img_channels=args.img_channels,\n",
    "            generator_num_features=args.generator_num_features,\n",
    "            n_layers=args.n_layers,\n",
    "        )\n",
    "        initialize_weights(self)\n"
   ]
  },
  {
   "cell_type": "code",
   "execution_count": 6,
   "metadata": {},
   "outputs": [
    {
     "data": {
      "application/vnd.plotly.v1+json": {
       "config": {
        "plotlyServerURL": "https://plot.ly"
       },
       "data": [
        {
         "hovertemplate": "x: %{x}<br>y: %{y}<extra></extra>",
         "name": "0",
         "source": "data:image/png;base64,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",
         "type": "image",
         "xaxis": "x",
         "yaxis": "y"
        }
       ],
       "layout": {
        "coloraxis": {
         "showscale": false
        },
        "margin": {
         "b": 20,
         "l": 20,
         "r": 20,
         "t": 20
        },
        "template": {
         "data": {
          "bar": [
           {
            "error_x": {
             "color": "#2a3f5f"
            },
            "error_y": {
             "color": "#2a3f5f"
            },
            "marker": {
             "line": {
              "color": "#E5ECF6",
              "width": 0.5
             },
             "pattern": {
              "fillmode": "overlay",
              "size": 10,
              "solidity": 0.2
             }
            },
            "type": "bar"
           }
          ],
          "barpolar": [
           {
            "marker": {
             "line": {
              "color": "#E5ECF6",
              "width": 0.5
             },
             "pattern": {
              "fillmode": "overlay",
              "size": 10,
              "solidity": 0.2
             }
            },
            "type": "barpolar"
           }
          ],
          "carpet": [
           {
            "aaxis": {
             "endlinecolor": "#2a3f5f",
             "gridcolor": "white",
             "linecolor": "white",
             "minorgridcolor": "white",
             "startlinecolor": "#2a3f5f"
            },
            "baxis": {
             "endlinecolor": "#2a3f5f",
             "gridcolor": "white",
             "linecolor": "white",
             "minorgridcolor": "white",
             "startlinecolor": "#2a3f5f"
            },
            "type": "carpet"
           }
          ],
          "choropleth": [
           {
            "colorbar": {
             "outlinewidth": 0,
             "ticks": ""
            },
            "type": "choropleth"
           }
          ],
          "contour": [
           {
            "colorbar": {
             "outlinewidth": 0,
             "ticks": ""
            },
            "colorscale": [
             [
              0,
              "#0d0887"
             ],
             [
              0.1111111111111111,
              "#46039f"
             ],
             [
              0.2222222222222222,
              "#7201a8"
             ],
             [
              0.3333333333333333,
              "#9c179e"
             ],
             [
              0.4444444444444444,
              "#bd3786"
             ],
             [
              0.5555555555555556,
              "#d8576b"
             ],
             [
              0.6666666666666666,
              "#ed7953"
             ],
             [
              0.7777777777777778,
              "#fb9f3a"
             ],
             [
              0.8888888888888888,
              "#fdca26"
             ],
             [
              1,
              "#f0f921"
             ]
            ],
            "type": "contour"
           }
          ],
          "contourcarpet": [
           {
            "colorbar": {
             "outlinewidth": 0,
             "ticks": ""
            },
            "type": "contourcarpet"
           }
          ],
          "heatmap": [
           {
            "colorbar": {
             "outlinewidth": 0,
             "ticks": ""
            },
            "colorscale": [
             [
              0,
              "#0d0887"
             ],
             [
              0.1111111111111111,
              "#46039f"
             ],
             [
              0.2222222222222222,
              "#7201a8"
             ],
             [
              0.3333333333333333,
              "#9c179e"
             ],
             [
              0.4444444444444444,
              "#bd3786"
             ],
             [
              0.5555555555555556,
              "#d8576b"
             ],
             [
              0.6666666666666666,
              "#ed7953"
             ],
             [
              0.7777777777777778,
              "#fb9f3a"
             ],
             [
              0.8888888888888888,
              "#fdca26"
             ],
             [
              1,
              "#f0f921"
             ]
            ],
            "type": "heatmap"
           }
          ],
          "heatmapgl": [
           {
            "colorbar": {
             "outlinewidth": 0,
             "ticks": ""
            },
            "colorscale": [
             [
              0,
              "#0d0887"
             ],
             [
              0.1111111111111111,
              "#46039f"
             ],
             [
              0.2222222222222222,
              "#7201a8"
             ],
             [
              0.3333333333333333,
              "#9c179e"
             ],
             [
              0.4444444444444444,
              "#bd3786"
             ],
             [
              0.5555555555555556,
              "#d8576b"
             ],
             [
              0.6666666666666666,
              "#ed7953"
             ],
             [
              0.7777777777777778,
              "#fb9f3a"
             ],
             [
              0.8888888888888888,
              "#fdca26"
             ],
             [
              1,
              "#f0f921"
             ]
            ],
            "type": "heatmapgl"
           }
          ],
          "histogram": [
           {
            "marker": {
             "pattern": {
              "fillmode": "overlay",
              "size": 10,
              "solidity": 0.2
             }
            },
            "type": "histogram"
           }
          ],
          "histogram2d": [
           {
            "colorbar": {
             "outlinewidth": 0,
             "ticks": ""
            },
            "colorscale": [
             [
              0,
              "#0d0887"
             ],
             [
              0.1111111111111111,
              "#46039f"
             ],
             [
              0.2222222222222222,
              "#7201a8"
             ],
             [
              0.3333333333333333,
              "#9c179e"
             ],
             [
              0.4444444444444444,
              "#bd3786"
             ],
             [
              0.5555555555555556,
              "#d8576b"
             ],
             [
              0.6666666666666666,
              "#ed7953"
             ],
             [
              0.7777777777777778,
              "#fb9f3a"
             ],
             [
              0.8888888888888888,
              "#fdca26"
             ],
             [
              1,
              "#f0f921"
             ]
            ],
            "type": "histogram2d"
           }
          ],
          "histogram2dcontour": [
           {
            "colorbar": {
             "outlinewidth": 0,
             "ticks": ""
            },
            "colorscale": [
             [
              0,
              "#0d0887"
             ],
             [
              0.1111111111111111,
              "#46039f"
             ],
             [
              0.2222222222222222,
              "#7201a8"
             ],
             [
              0.3333333333333333,
              "#9c179e"
             ],
             [
              0.4444444444444444,
              "#bd3786"
             ],
             [
              0.5555555555555556,
              "#d8576b"
             ],
             [
              0.6666666666666666,
              "#ed7953"
             ],
             [
              0.7777777777777778,
              "#fb9f3a"
             ],
             [
              0.8888888888888888,
              "#fdca26"
             ],
             [
              1,
              "#f0f921"
             ]
            ],
            "type": "histogram2dcontour"
           }
          ],
          "mesh3d": [
           {
            "colorbar": {
             "outlinewidth": 0,
             "ticks": ""
            },
            "type": "mesh3d"
           }
          ],
          "parcoords": [
           {
            "line": {
             "colorbar": {
              "outlinewidth": 0,
              "ticks": ""
             }
            },
            "type": "parcoords"
           }
          ],
          "pie": [
           {
            "automargin": true,
            "type": "pie"
           }
          ],
          "scatter": [
           {
            "fillpattern": {
             "fillmode": "overlay",
             "size": 10,
             "solidity": 0.2
            },
            "type": "scatter"
           }
          ],
          "scatter3d": [
           {
            "line": {
             "colorbar": {
              "outlinewidth": 0,
              "ticks": ""
             }
            },
            "marker": {
             "colorbar": {
              "outlinewidth": 0,
              "ticks": ""
             }
            },
            "type": "scatter3d"
           }
          ],
          "scattercarpet": [
           {
            "marker": {
             "colorbar": {
              "outlinewidth": 0,
              "ticks": ""
             }
            },
            "type": "scattercarpet"
           }
          ],
          "scattergeo": [
           {
            "marker": {
             "colorbar": {
              "outlinewidth": 0,
              "ticks": ""
             }
            },
            "type": "scattergeo"
           }
          ],
          "scattergl": [
           {
            "marker": {
             "colorbar": {
              "outlinewidth": 0,
              "ticks": ""
             }
            },
            "type": "scattergl"
           }
          ],
          "scattermapbox": [
           {
            "marker": {
             "colorbar": {
              "outlinewidth": 0,
              "ticks": ""
             }
            },
            "type": "scattermapbox"
           }
          ],
          "scatterpolar": [
           {
            "marker": {
             "colorbar": {
              "outlinewidth": 0,
              "ticks": ""
             }
            },
            "type": "scatterpolar"
           }
          ],
          "scatterpolargl": [
           {
            "marker": {
             "colorbar": {
              "outlinewidth": 0,
              "ticks": ""
             }
            },
            "type": "scatterpolargl"
           }
          ],
          "scatterternary": [
           {
            "marker": {
             "colorbar": {
              "outlinewidth": 0,
              "ticks": ""
             }
            },
            "type": "scatterternary"
           }
          ],
          "surface": [
           {
            "colorbar": {
             "outlinewidth": 0,
             "ticks": ""
            },
            "colorscale": [
             [
              0,
              "#0d0887"
             ],
             [
              0.1111111111111111,
              "#46039f"
             ],
             [
              0.2222222222222222,
              "#7201a8"
             ],
             [
              0.3333333333333333,
              "#9c179e"
             ],
             [
              0.4444444444444444,
              "#bd3786"
             ],
             [
              0.5555555555555556,
              "#d8576b"
             ],
             [
              0.6666666666666666,
              "#ed7953"
             ],
             [
              0.7777777777777778,
              "#fb9f3a"
             ],
             [
              0.8888888888888888,
              "#fdca26"
             ],
             [
              1,
              "#f0f921"
             ]
            ],
            "type": "surface"
           }
          ],
          "table": [
           {
            "cells": {
             "fill": {
              "color": "#EBF0F8"
             },
             "line": {
              "color": "white"
             }
            },
            "header": {
             "fill": {
              "color": "#C8D4E3"
             },
             "line": {
              "color": "white"
             }
            },
            "type": "table"
           }
          ]
         },
         "layout": {
          "annotationdefaults": {
           "arrowcolor": "#2a3f5f",
           "arrowhead": 0,
           "arrowwidth": 1
          },
          "autotypenumbers": "strict",
          "coloraxis": {
           "colorbar": {
            "outlinewidth": 0,
            "ticks": ""
           }
          },
          "colorscale": {
           "diverging": [
            [
             0,
             "#8e0152"
            ],
            [
             0.1,
             "#c51b7d"
            ],
            [
             0.2,
             "#de77ae"
            ],
            [
             0.3,
             "#f1b6da"
            ],
            [
             0.4,
             "#fde0ef"
            ],
            [
             0.5,
             "#f7f7f7"
            ],
            [
             0.6,
             "#e6f5d0"
            ],
            [
             0.7,
             "#b8e186"
            ],
            [
             0.8,
             "#7fbc41"
            ],
            [
             0.9,
             "#4d9221"
            ],
            [
             1,
             "#276419"
            ]
           ],
           "sequential": [
            [
             0,
             "#0d0887"
            ],
            [
             0.1111111111111111,
             "#46039f"
            ],
            [
             0.2222222222222222,
             "#7201a8"
            ],
            [
             0.3333333333333333,
             "#9c179e"
            ],
            [
             0.4444444444444444,
             "#bd3786"
            ],
            [
             0.5555555555555556,
             "#d8576b"
            ],
            [
             0.6666666666666666,
             "#ed7953"
            ],
            [
             0.7777777777777778,
             "#fb9f3a"
            ],
            [
             0.8888888888888888,
             "#fdca26"
            ],
            [
             1,
             "#f0f921"
            ]
           ],
           "sequentialminus": [
            [
             0,
             "#0d0887"
            ],
            [
             0.1111111111111111,
             "#46039f"
            ],
            [
             0.2222222222222222,
             "#7201a8"
            ],
            [
             0.3333333333333333,
             "#9c179e"
            ],
            [
             0.4444444444444444,
             "#bd3786"
            ],
            [
             0.5555555555555556,
             "#d8576b"
            ],
            [
             0.6666666666666666,
             "#ed7953"
            ],
            [
             0.7777777777777778,
             "#fb9f3a"
            ],
            [
             0.8888888888888888,
             "#fdca26"
            ],
            [
             1,
             "#f0f921"
            ]
           ]
          },
          "colorway": [
           "#636efa",
           "#EF553B",
           "#00cc96",
           "#ab63fa",
           "#FFA15A",
           "#19d3f3",
           "#FF6692",
           "#B6E880",
           "#FF97FF",
           "#FECB52"
          ],
          "font": {
           "color": "#2a3f5f"
          },
          "geo": {
           "bgcolor": "white",
           "lakecolor": "white",
           "landcolor": "#E5ECF6",
           "showlakes": true,
           "showland": true,
           "subunitcolor": "white"
          },
          "hoverlabel": {
           "align": "left"
          },
          "hovermode": "closest",
          "mapbox": {
           "style": "light"
          },
          "paper_bgcolor": "white",
          "plot_bgcolor": "#E5ECF6",
          "polar": {
           "angularaxis": {
            "gridcolor": "white",
            "linecolor": "white",
            "ticks": ""
           },
           "bgcolor": "#E5ECF6",
           "radialaxis": {
            "gridcolor": "white",
            "linecolor": "white",
            "ticks": ""
           }
          },
          "scene": {
           "xaxis": {
            "backgroundcolor": "#E5ECF6",
            "gridcolor": "white",
            "gridwidth": 2,
            "linecolor": "white",
            "showbackground": true,
            "ticks": "",
            "zerolinecolor": "white"
           },
           "yaxis": {
            "backgroundcolor": "#E5ECF6",
            "gridcolor": "white",
            "gridwidth": 2,
            "linecolor": "white",
            "showbackground": true,
            "ticks": "",
            "zerolinecolor": "white"
           },
           "zaxis": {
            "backgroundcolor": "#E5ECF6",
            "gridcolor": "white",
            "gridwidth": 2,
            "linecolor": "white",
            "showbackground": true,
            "ticks": "",
            "zerolinecolor": "white"
           }
          },
          "shapedefaults": {
           "line": {
            "color": "#2a3f5f"
           }
          },
          "ternary": {
           "aaxis": {
            "gridcolor": "white",
            "linecolor": "white",
            "ticks": ""
           },
           "baxis": {
            "gridcolor": "white",
            "linecolor": "white",
            "ticks": ""
           },
           "bgcolor": "#E5ECF6",
           "caxis": {
            "gridcolor": "white",
            "linecolor": "white",
            "ticks": ""
           }
          },
          "title": {
           "x": 0.05
          },
          "xaxis": {
           "automargin": true,
           "gridcolor": "white",
           "linecolor": "white",
           "ticks": "",
           "title": {
            "standoff": 15
           },
           "zerolinecolor": "white",
           "zerolinewidth": 2
          },
          "yaxis": {
           "automargin": true,
           "gridcolor": "white",
           "linecolor": "white",
           "ticks": "",
           "title": {
            "standoff": 15
           },
           "zerolinecolor": "white",
           "zerolinewidth": 2
          }
         }
        },
        "xaxis": {
         "anchor": "y",
         "domain": [
          0,
          1
         ],
         "showticklabels": false
        },
        "yaxis": {
         "anchor": "x",
         "domain": [
          0,
          1
         ],
         "showticklabels": false
        }
       }
      }
     },
     "metadata": {},
     "output_type": "display_data"
    }
   ],
   "source": [
    "from torchvision import transforms, datasets\n",
    "image_size = 64\n",
    "transform = transforms.Compose([\n",
    "    transforms.Resize(image_size),\n",
    "    transforms.CenterCrop(image_size),\n",
    "    transforms.ToTensor(),\n",
    "    transforms.Normalize((0.5, 0.5, 0.5), (0.5, 0.5, 0.5)),\n",
    "])\n",
    "\n",
    "trainset = ImageFolder(\n",
    "    root=\"/home/curttigges/projects/arena-v1-ldn-ct/w5_chapter5_modelling_objectives/data\",\n",
    "    transform=transform\n",
    ")\n",
    "\n",
    "w5d1_utils.show_images(trainset, rows=3, cols=5)"
   ]
  },
  {
   "cell_type": "code",
   "execution_count": 7,
   "metadata": {},
   "outputs": [],
   "source": [
    "from typing import Tuple\n",
    "\n",
    "\n",
    "@dataclass\n",
    "class DCGANargs():\n",
    "    latent_dim_size: int\n",
    "    img_size: int\n",
    "    img_channels: int\n",
    "    generator_num_features: int\n",
    "    n_layers: int\n",
    "    trainset: datasets.ImageFolder\n",
    "    batch_size: int = 8\n",
    "    epochs: int = 1\n",
    "    lr: float = 0.0002\n",
    "    betas: Tuple[float] = (0.5, 0.999)\n",
    "    track: bool = True\n",
    "    cuda: bool = False\n",
    "    seconds_between_image_logs: int = 40\n",
    "\n",
    "@t.inference_mode()\n",
    "def get_generator_output(netG, n_examples=8, rand_seed=0):\n",
    "    netG.eval()\n",
    "    device = next(netG.parameters()).device\n",
    "    t.manual_seed(rand_seed)\n",
    "    noise = t.randn(n_examples, netG.latent_dim_size).to(device)\n",
    "    arrays = rearrange(netG(noise), \"b c h w -> b h w c\").detach().cpu().numpy()\n",
    "    netG.train()\n",
    "    return arrays"
   ]
  },
  {
   "cell_type": "code",
   "execution_count": 8,
   "metadata": {},
   "outputs": [
    {
     "name": "stdout",
     "output_type": "stream",
     "text": [
      "img_size=64 img_channels=3 generator_num_features=512 n_layers=4\n"
     ]
    }
   ],
   "source": [
    "celeba_config = dict(\n",
    "    latent_dim_size = 100,\n",
    "    img_size = 64,\n",
    "    img_channels = 3,\n",
    "    generator_num_features = 1024,\n",
    "    n_layers = 4,\n",
    ")\n",
    "celeba_mini_config = dict(\n",
    "    latent_dim_size = 100,\n",
    "    img_size = 64,\n",
    "    img_channels = 3,\n",
    "    generator_num_features = 512,\n",
    "    n_layers = 4,\n",
    ")\n",
    "\n",
    "\n",
    "args = DCGANargs(**celeba_mini_config, trainset=trainset)\n",
    "device = t.device(\"cuda\" if args.cuda else \"cpu\")\n",
    "trainloader = DataLoader(trainset, batch_size=args.batch_size, shuffle=True, num_workers=8)\n",
    "model = DCGAN(args).to(device)"
   ]
  },
  {
   "cell_type": "code",
   "execution_count": 9,
   "metadata": {},
   "outputs": [],
   "source": [
    "import time\n",
    "\n",
    "def train_DCGAN(model, trainloader, args: DCGANargs):\n",
    "    \"\"\"Train DCGAN network\n",
    "\n",
    "    Args:\n",
    "        args (DCGANargs): _description_\n",
    "    \"\"\"\n",
    "    \n",
    "    if args.track:\n",
    "        wandb.init(project=\"Curt-DCGAN\", config=args)\n",
    "        wandb.watch(model, log=\"all\")\n",
    "\n",
    "    optimizerD = t.optim.Adam(model.netD.parameters(), lr=args.lr, betas=args.betas)\n",
    "    optimizerG = t.optim.Adam(model.netG.parameters(), lr=args.lr, betas=args.betas)\n",
    "\n",
    "    last_log_time = time.time()\n",
    "\n",
    "    for epoch in range(args.epochs):\n",
    "\n",
    "        progress_bar = tqdm(trainloader)\n",
    "\n",
    "        for img, _ in progress_bar:\n",
    "            \n",
    "            img = img.to(device)\n",
    "\n",
    "            # Train discriminator\n",
    "            optimizerD.zero_grad()\n",
    "            noise = t.randn(args.batch_size, args.latent_dim_size).to(device)\n",
    "            score_real = model.netD(img)\n",
    "            img_gen = model.netG(noise)\n",
    "            score_gen = model.netD(img_gen.detach())\n",
    "            lossD = -(t.log(score_real).mean() + t.log(1 - score_gen).mean())\n",
    "            lossD.backward()\n",
    "            optimizerD.step()\n",
    "\n",
    "            # Train generator\n",
    "            optimizerG.zero_grad()\n",
    "            score_gen = model.netD(img_gen)\n",
    "            lossG = -t.log(score_gen).mean()\n",
    "            lossG.backward()\n",
    "            optimizerG.step()\n",
    "\n",
    "            progress_bar.set_description(f\"{epoch=}, lossD={lossD.item():.4f}, lossG={lossG.item():.4f}\")\n",
    "\n",
    "            if args.track:\n",
    "                wandb.log(dict(lossD=lossD, lossG=lossG))\n",
    "                if time.time() - last_log_time > args.seconds_between_image_logs:\n",
    "                    last_log_time = time.time()\n",
    "                    arrays = get_generator_output(model.netG) # shape (8, 64, 64, 3)\n",
    "                    images = [wandb.Image(arr) for arr in arrays]\n",
    "                    wandb.log({\"images\": images})\n",
    "            \n",
    "    return model\n",
    "\n",
    "        "
   ]
  },
  {
   "cell_type": "code",
   "execution_count": 10,
   "metadata": {},
   "outputs": [],
   "source": [
    "#from w5d1_solutions import celeb_mini_DCGAN\n",
    "#gen_net = DCGAN(args)\n",
    "#w5d1_utils.print_param_count(gen_net.netG, celeb_mini_DCGAN.netG)"
   ]
  },
  {
   "cell_type": "code",
   "execution_count": 12,
   "metadata": {},
   "outputs": [
    {
     "name": "stdout",
     "output_type": "stream",
     "text": [
      "img_size=64 img_channels=3 generator_num_features=512 n_layers=4\n",
      "==========================================================================================\n",
      "Layer (type:depth-idx)                   Output Shape              Param #\n",
      "==========================================================================================\n",
      "Discriminator                            [3, 1]                    --\n",
      "├─Sequential: 1-1                        [3, 512, 4, 4]            --\n",
      "│    └─Conv2d: 2-1                       [3, 64, 32, 32]           3,072\n",
      "│    └─LeakyReLU: 2-2                    [3, 64, 32, 32]           --\n",
      "│    └─Conv2d: 2-3                       [3, 128, 16, 16]          131,072\n",
      "│    └─BatchNorm2d: 2-4                  [3, 128, 16, 16]          256\n",
      "│    └─LeakyReLU: 2-5                    [3, 128, 16, 16]          --\n",
      "│    └─Conv2d: 2-6                       [3, 256, 8, 8]            524,288\n",
      "│    └─BatchNorm2d: 2-7                  [3, 256, 8, 8]            512\n",
      "│    └─LeakyReLU: 2-8                    [3, 256, 8, 8]            --\n",
      "│    └─Conv2d: 2-9                       [3, 512, 4, 4]            2,097,152\n",
      "│    └─BatchNorm2d: 2-10                 [3, 512, 4, 4]            1,024\n",
      "│    └─LeakyReLU: 2-11                   [3, 512, 4, 4]            --\n",
      "├─Sequential: 1-2                        [3, 1]                    --\n",
      "│    └─Rearrange: 2-12                   [3, 8192]                 --\n",
      "│    └─Linear: 2-13                      [3, 1]                    8,192\n",
      "│    └─Sigmoid: 2-14                     [3, 1]                    --\n",
      "==========================================================================================\n",
      "Total params: 2,765,568\n",
      "Trainable params: 2,765,568\n",
      "Non-trainable params: 0\n",
      "Total mult-adds (M): 311.46\n",
      "==========================================================================================\n",
      "Input size (MB): 0.15\n",
      "Forward/backward pass size (MB): 4.33\n",
      "Params size (MB): 11.06\n",
      "Estimated Total Size (MB): 15.54\n",
      "==========================================================================================\n"
     ]
    },
    {
     "name": "stderr",
     "output_type": "stream",
     "text": [
      "Failed to detect the name of this notebook, you can set it manually with the WANDB_NOTEBOOK_NAME environment variable to enable code saving.\n",
      "\u001b[34m\u001b[1mwandb\u001b[0m: Currently logged in as: \u001b[33mcurt-tigges\u001b[0m (\u001b[33marena-ldn\u001b[0m). Use \u001b[1m`wandb login --relogin`\u001b[0m to force relogin\n"
     ]
    },
    {
     "data": {
      "text/html": [
       "Tracking run with wandb version 0.13.5"
      ],
      "text/plain": [
       "<IPython.core.display.HTML object>"
      ]
     },
     "metadata": {},
     "output_type": "display_data"
    },
    {
     "data": {
      "text/html": [
       "Run data is saved locally in <code>/home/curttigges/projects/arena-v1-ldn-ct/w5_chapter5_modelling_objectives/wandb/run-20221206_120344-377g519r</code>"
      ],
      "text/plain": [
       "<IPython.core.display.HTML object>"
      ]
     },
     "metadata": {},
     "output_type": "display_data"
    },
    {
     "data": {
      "text/html": [
       "Syncing run <strong><a href=\"https://wandb.ai/arena-ldn/Curt-DCGAN/runs/377g519r\" target=\"_blank\">faithful-vortex-7</a></strong> to <a href=\"https://wandb.ai/arena-ldn/Curt-DCGAN\" target=\"_blank\">Weights & Biases</a> (<a href=\"https://wandb.me/run\" target=\"_blank\">docs</a>)<br/>"
      ],
      "text/plain": [
       "<IPython.core.display.HTML object>"
      ]
     },
     "metadata": {},
     "output_type": "display_data"
    },
    {
     "data": {
      "application/vnd.jupyter.widget-view+json": {
       "model_id": "ab318b0868e14561a2bdefadab2dc99a",
       "version_major": 2,
       "version_minor": 0
      },
      "text/plain": [
       "  0%|          | 0/25325 [00:00<?, ?it/s]"
      ]
     },
     "metadata": {},
     "output_type": "display_data"
    },
    {
     "ename": "KeyboardInterrupt",
     "evalue": "",
     "output_type": "error",
     "traceback": [
      "\u001b[0;31m---------------------------------------------------------------------------\u001b[0m",
      "\u001b[0;31mKeyboardInterrupt\u001b[0m                         Traceback (most recent call last)",
      "Cell \u001b[0;32mIn [12], line 8\u001b[0m\n\u001b[1;32m      5\u001b[0m \u001b[39mprint\u001b[39m(statsD)\n\u001b[1;32m      7\u001b[0m \u001b[39m#model = train_DCGAN(args)\u001b[39;00m\n\u001b[0;32m----> 8\u001b[0m model \u001b[39m=\u001b[39m train_DCGAN(model, trainloader, args)\n",
      "Cell \u001b[0;32mIn [9], line 41\u001b[0m, in \u001b[0;36mtrain_DCGAN\u001b[0;34m(model, trainloader, args)\u001b[0m\n\u001b[1;32m     39\u001b[0m score_gen \u001b[39m=\u001b[39m model\u001b[39m.\u001b[39mnetD(img_gen)\n\u001b[1;32m     40\u001b[0m lossG \u001b[39m=\u001b[39m \u001b[39m-\u001b[39mt\u001b[39m.\u001b[39mlog(score_gen)\u001b[39m.\u001b[39mmean()\n\u001b[0;32m---> 41\u001b[0m lossG\u001b[39m.\u001b[39;49mbackward()\n\u001b[1;32m     42\u001b[0m optimizerG\u001b[39m.\u001b[39mstep()\n\u001b[1;32m     44\u001b[0m progress_bar\u001b[39m.\u001b[39mset_description(\u001b[39mf\u001b[39m\u001b[39m\"\u001b[39m\u001b[39m{\u001b[39;00mepoch\u001b[39m=}\u001b[39;00m\u001b[39m, lossD=\u001b[39m\u001b[39m{\u001b[39;00mlossD\u001b[39m.\u001b[39mitem()\u001b[39m:\u001b[39;00m\u001b[39m.4f\u001b[39m\u001b[39m}\u001b[39;00m\u001b[39m, lossG=\u001b[39m\u001b[39m{\u001b[39;00mlossG\u001b[39m.\u001b[39mitem()\u001b[39m:\u001b[39;00m\u001b[39m.4f\u001b[39m\u001b[39m}\u001b[39;00m\u001b[39m\"\u001b[39m)\n",
      "File \u001b[0;32m~/miniconda3/envs/arena/lib/python3.9/site-packages/torch/_tensor.py:487\u001b[0m, in \u001b[0;36mTensor.backward\u001b[0;34m(self, gradient, retain_graph, create_graph, inputs)\u001b[0m\n\u001b[1;32m    477\u001b[0m \u001b[39mif\u001b[39;00m has_torch_function_unary(\u001b[39mself\u001b[39m):\n\u001b[1;32m    478\u001b[0m     \u001b[39mreturn\u001b[39;00m handle_torch_function(\n\u001b[1;32m    479\u001b[0m         Tensor\u001b[39m.\u001b[39mbackward,\n\u001b[1;32m    480\u001b[0m         (\u001b[39mself\u001b[39m,),\n\u001b[0;32m   (...)\u001b[0m\n\u001b[1;32m    485\u001b[0m         inputs\u001b[39m=\u001b[39minputs,\n\u001b[1;32m    486\u001b[0m     )\n\u001b[0;32m--> 487\u001b[0m torch\u001b[39m.\u001b[39;49mautograd\u001b[39m.\u001b[39;49mbackward(\n\u001b[1;32m    488\u001b[0m     \u001b[39mself\u001b[39;49m, gradient, retain_graph, create_graph, inputs\u001b[39m=\u001b[39;49minputs\n\u001b[1;32m    489\u001b[0m )\n",
      "File \u001b[0;32m~/miniconda3/envs/arena/lib/python3.9/site-packages/torch/autograd/__init__.py:197\u001b[0m, in \u001b[0;36mbackward\u001b[0;34m(tensors, grad_tensors, retain_graph, create_graph, grad_variables, inputs)\u001b[0m\n\u001b[1;32m    192\u001b[0m     retain_graph \u001b[39m=\u001b[39m create_graph\n\u001b[1;32m    194\u001b[0m \u001b[39m# The reason we repeat same the comment below is that\u001b[39;00m\n\u001b[1;32m    195\u001b[0m \u001b[39m# some Python versions print out the first line of a multi-line function\u001b[39;00m\n\u001b[1;32m    196\u001b[0m \u001b[39m# calls in the traceback and some print out the last line\u001b[39;00m\n\u001b[0;32m--> 197\u001b[0m Variable\u001b[39m.\u001b[39;49m_execution_engine\u001b[39m.\u001b[39;49mrun_backward(  \u001b[39m# Calls into the C++ engine to run the backward pass\u001b[39;49;00m\n\u001b[1;32m    198\u001b[0m     tensors, grad_tensors_, retain_graph, create_graph, inputs,\n\u001b[1;32m    199\u001b[0m     allow_unreachable\u001b[39m=\u001b[39;49m\u001b[39mTrue\u001b[39;49;00m, accumulate_grad\u001b[39m=\u001b[39;49m\u001b[39mTrue\u001b[39;49;00m)\n",
      "File \u001b[0;32m~/miniconda3/envs/arena/lib/python3.9/site-packages/wandb/wandb_torch.py:282\u001b[0m, in \u001b[0;36mTorchHistory._hook_variable_gradient_stats.<locals>.<lambda>\u001b[0;34m(grad)\u001b[0m\n\u001b[1;32m    279\u001b[0m         \u001b[39mreturn\u001b[39;00m\n\u001b[1;32m    280\u001b[0m     \u001b[39mself\u001b[39m\u001b[39m.\u001b[39mlog_tensor_stats(grad\u001b[39m.\u001b[39mdata, name)\n\u001b[0;32m--> 282\u001b[0m handle \u001b[39m=\u001b[39m var\u001b[39m.\u001b[39mregister_hook(\u001b[39mlambda\u001b[39;00m grad: _callback(grad, log_track))\n\u001b[1;32m    283\u001b[0m \u001b[39mself\u001b[39m\u001b[39m.\u001b[39m_hook_handles[name] \u001b[39m=\u001b[39m handle\n\u001b[1;32m    284\u001b[0m \u001b[39mreturn\u001b[39;00m handle\n",
      "\u001b[0;31mKeyboardInterrupt\u001b[0m: "
     ]
    }
   ],
   "source": [
    "\n",
    "model = DCGAN(args).to(device).train()\n",
    "x = t.randn(3, 100).to(device)\n",
    "statsG = torchinfo.summary(model.netG, input_data=x)\n",
    "statsD = torchinfo.summary(model.netD, input_data=model.netG(x))\n",
    "print(statsD)\n",
    "\n",
    "#model = train_DCGAN(args)\n",
    "model = train_DCGAN(model, trainloader, args)"
   ]
  },
  {
   "cell_type": "code",
   "execution_count": 106,
   "metadata": {},
   "outputs": [],
   "source": []
  },
  {
   "cell_type": "code",
   "execution_count": 116,
   "metadata": {},
   "outputs": [
    {
     "name": "stdout",
     "output_type": "stream",
     "text": [
      "DCGANargs(latent_dim_size=100, img_size=64, img_channels=3, generator_num_features=512, n_layers=4, trainset=Dataset ImageFolder\n",
      "    Number of datapoints: 202599\n",
      "    Root location: /home/curttigges/projects/arena-v1-ldn-ct/w5_chapter5_modelling_objectives/data\n",
      "    StandardTransform\n",
      "Transform: Compose(\n",
      "               Resize(size=64, interpolation=bilinear, max_size=None, antialias=None)\n",
      "               ToTensor()\n",
      "               Normalize(mean=(0.5, 0.5, 0.5), std=(0.5, 0.5, 0.5))\n",
      "           ), batch_size=8, epochs=1, lr=0.0002, betas=(0.5, 0.999), track=True, cuda=True, seconds_between_image_logs=40)\n",
      "img_size=64 img_channels=3 generator_num_features=512 n_layers=4\n"
     ]
    }
   ],
   "source": []
  },
  {
   "cell_type": "code",
   "execution_count": null,
   "metadata": {},
   "outputs": [],
   "source": []
  }
 ],
 "metadata": {
  "kernelspec": {
   "display_name": "Python 3.9.13 ('arena')",
   "language": "python",
   "name": "python3"
  },
  "language_info": {
   "codemirror_mode": {
    "name": "ipython",
    "version": 3
   },
   "file_extension": ".py",
   "mimetype": "text/x-python",
   "name": "python",
   "nbconvert_exporter": "python",
   "pygments_lexer": "ipython3",
   "version": "3.9.13"
  },
  "orig_nbformat": 4,
  "vscode": {
   "interpreter": {
    "hash": "e28c680d33f95a364b6d7e112cefa96ea26c04ddac857c82a143b1aa5b3dfb2e"
   }
  }
 },
 "nbformat": 4,
 "nbformat_minor": 2
}
