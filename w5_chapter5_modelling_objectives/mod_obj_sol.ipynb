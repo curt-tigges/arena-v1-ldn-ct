{
 "cells": [
  {
   "cell_type": "code",
   "execution_count": 1,
   "metadata": {},
   "outputs": [],
   "source": [
    "import torch as t\n",
    "from typing import Union\n",
    "from torch import nn\n",
    "import torch.nn.functional as F\n",
    "import plotly.express as px\n",
    "import plotly.graph_objects as go\n",
    "from einops import rearrange, reduce, repeat\n",
    "from einops.layers.torch import Rearrange\n",
    "from fancy_einsum import einsum\n",
    "import os\n",
    "from tqdm.auto import tqdm\n",
    "from torchvision import transforms, datasets\n",
    "from torchvision.datasets import ImageFolder\n",
    "from torch.utils.data import Dataset, DataLoader, TensorDataset\n",
    "import wandb\n",
    "import w5d1_utils\n",
    "import w5d1_tests\n",
    "\n",
    "import sys \n",
    "sys.path.append('../common_modules')\n",
    "\n",
    "import cnn_modules"
   ]
  },
  {
   "cell_type": "code",
   "execution_count": 8,
   "metadata": {},
   "outputs": [
    {
     "name": "stdout",
     "output_type": "stream",
     "text": [
      "All tests in `test_conv1d_minimal` passed!\n"
     ]
    }
   ],
   "source": [
    "def conv_transpose1d_minimal(x: t.Tensor, weights: t.Tensor) -> t.Tensor:\n",
    "    '''Like torch's conv_transpose1d using bias=False and all other keyword arguments left at their default values.\n",
    "\n",
    "    x: shape (batch, in_channels, width)\n",
    "    weights: shape (in_channels, out_channels, kernel_width)\n",
    "\n",
    "    Returns: shape (batch, out_channels, output_width)\n",
    "    '''\n",
    "    in_channels, out_channels, kernel_width = weights.shape\n",
    "    \n",
    "    x = cnn_modules.pad1d(x, left=kernel_width-1, right=kernel_width-1, pad_value=0)\n",
    "    mod_kernel = rearrange(t.flip(weights, dims=[2]), 'in out width -> out in width')\n",
    "    out = cnn_modules.conv1d(x, mod_kernel)\n",
    "\n",
    "    return out\n",
    "\n",
    "w5d1_tests.test_conv_transpose1d_minimal(conv_transpose1d_minimal)"
   ]
  },
  {
   "cell_type": "code",
   "execution_count": 14,
   "metadata": {},
   "outputs": [
    {
     "name": "stdout",
     "output_type": "stream",
     "text": [
      "torch.int64\n",
      "stride: 2\n",
      "tensor([[[1, 2, 3],\n",
      "         [4, 5, 6]]])\n",
      "tensor([[[0, 0, 0, 0, 0],\n",
      "         [0, 0, 0, 0, 0]]])\n",
      "tensor([[[1, 0, 2, 0, 3],\n",
      "         [4, 0, 5, 0, 6]]])\n",
      "All tests in `test_fractional_stride_1d` passed!\n"
     ]
    }
   ],
   "source": [
    "def fractional_stride_1d(x, stride: int = 1):\n",
    "    '''Returns a version of x suitable for transposed convolutions, i.e. \"spaced out\" with zeros between its values.\n",
    "    This spacing only happens along the last dimension.\n",
    "\n",
    "    x: shape (batch, in_channels, width)\n",
    "\n",
    "    Example: \n",
    "        x = [[[1, 2, 3], [4, 5, 6]]]\n",
    "        stride = 2\n",
    "        output = [[[1, 0, 2, 0, 3], [4, 0, 5, 0, 6]]]\n",
    "    '''\n",
    "\n",
    "    if stride == 1:\n",
    "        return x\n",
    "    \n",
    "    batch_size, in_channels, in_width = x.shape\n",
    "    out_width = in_width * stride - 1\n",
    "    out = t.zeros(batch_size, in_channels, out_width, dtype=t.int64)\n",
    "    out[:,:,::2] = x\n",
    "    \n",
    "    return out\n",
    "\n",
    "w5d1_tests.test_fractional_stride_1d(fractional_stride_1d)\n",
    "\n",
    "# def conv_transpose1d(x, weights, stride: int = 1, padding: int = 0) -> t.Tensor:\n",
    "#     '''Like torch's conv_transpose1d using bias=False and all other keyword arguments left at their default values.\n",
    "\n",
    "#     x: shape (batch, in_channels, width)\n",
    "#     weights: shape (in_channels, out_channels, kernel_width)\n",
    "\n",
    "#     Returns: shape (batch, out_channels, output_width)\n",
    "#     '''\n",
    "#     return fractional_stride_1d\n",
    "\n",
    "# w5d1_tests.test_conv_transpose1d(conv_transpose1d)"
   ]
  },
  {
   "cell_type": "code",
   "execution_count": null,
   "metadata": {},
   "outputs": [],
   "source": []
  }
 ],
 "metadata": {
  "kernelspec": {
   "display_name": "Python 3.9.13 ('arena')",
   "language": "python",
   "name": "python3"
  },
  "language_info": {
   "codemirror_mode": {
    "name": "ipython",
    "version": 3
   },
   "file_extension": ".py",
   "mimetype": "text/x-python",
   "name": "python",
   "nbconvert_exporter": "python",
   "pygments_lexer": "ipython3",
   "version": "3.9.13"
  },
  "orig_nbformat": 4,
  "vscode": {
   "interpreter": {
    "hash": "e28c680d33f95a364b6d7e112cefa96ea26c04ddac857c82a143b1aa5b3dfb2e"
   }
  }
 },
 "nbformat": 4,
 "nbformat_minor": 2
}
