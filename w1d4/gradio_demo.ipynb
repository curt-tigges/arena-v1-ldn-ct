{
 "cells": [
  {
   "cell_type": "code",
   "execution_count": 2,
   "metadata": {},
   "outputs": [],
   "source": [
    "import torch as t\n",
    "\n",
    "import sys \n",
    "sys.path.append('../common_modules')\n",
    "\n",
    "import sample_methods as s\n",
    "import nlp_modules as nm\n",
    "\n",
    "def generate(input):\n",
    "\n",
    "    MODEL_FILENAME = \"./w1d3_transformer_shakespeare.pt\"\n",
    "\n",
    "    model = t.load(MODEL_FILENAME, map_location=t.device('cpu'))\n",
    "    model.eval()\n",
    "\n",
    "    tokenizer = nm.WordsTokenizer(16)\n",
    "    tokenizer.load_saved()\n",
    "\n",
    "    text_output = s.sample_tokens(model, tokenizer, input, max_tokens_generated=100, temperature=1.0, top_k=10)\n",
    "    return text_output"
   ]
  },
  {
   "cell_type": "code",
   "execution_count": null,
   "metadata": {},
   "outputs": [],
   "source": [
    "import gradio as gr\n",
    "\n",
    "def greet(name):\n",
    "    return \"Hello \" + name + \"!\"\n",
    "\n",
    "demo = gr.Interface(fn=generate, inputs=\"text\", outputs=\"text\")\n",
    "\n",
    "demo.launch()"
   ]
  }
 ],
 "metadata": {
  "kernelspec": {
   "display_name": "Python 3.9.13 ('arena')",
   "language": "python",
   "name": "python3"
  },
  "language_info": {
   "codemirror_mode": {
    "name": "ipython",
    "version": 3
   },
   "file_extension": ".py",
   "mimetype": "text/x-python",
   "name": "python",
   "nbconvert_exporter": "python",
   "pygments_lexer": "ipython3",
   "version": "3.9.13"
  },
  "orig_nbformat": 4,
  "vscode": {
   "interpreter": {
    "hash": "e28c680d33f95a364b6d7e112cefa96ea26c04ddac857c82a143b1aa5b3dfb2e"
   }
  }
 },
 "nbformat": 4,
 "nbformat_minor": 2
}
